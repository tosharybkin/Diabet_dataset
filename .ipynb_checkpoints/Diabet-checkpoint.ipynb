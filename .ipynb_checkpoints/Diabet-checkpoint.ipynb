{
 "cells": [
  {
   "cell_type": "markdown",
   "metadata": {},
   "source": [
    "# ОТЧЁТ ПО ПРАКТИКЕ"
   ]
  },
  {
   "cell_type": "markdown",
   "metadata": {},
   "source": [
    "## Обработка данных"
   ]
  },
  {
   "cell_type": "markdown",
   "metadata": {},
   "source": [
    "Для начала загрузим данные"
   ]
  },
  {
   "cell_type": "code",
   "execution_count": 380,
   "metadata": {},
   "outputs": [],
   "source": [
    "import pandas as pd\n",
    "import numpy as np\n",
    "import os\n",
    "\n",
    "def load_diabet_data(diabet_path=r\"C:\\Users\\tosha\\Desktop\"):\n",
    "    csv_path = os.path.join(diabet_path, \"diabetic_data.csv\")\n",
    "    return pd.read_csv(csv_path)"
   ]
  },
  {
   "cell_type": "code",
   "execution_count": 381,
   "metadata": {
    "scrolled": true
   },
   "outputs": [
    {
     "data": {
      "text/html": [
       "<div>\n",
       "<style scoped>\n",
       "    .dataframe tbody tr th:only-of-type {\n",
       "        vertical-align: middle;\n",
       "    }\n",
       "\n",
       "    .dataframe tbody tr th {\n",
       "        vertical-align: top;\n",
       "    }\n",
       "\n",
       "    .dataframe thead th {\n",
       "        text-align: right;\n",
       "    }\n",
       "</style>\n",
       "<table border=\"1\" class=\"dataframe\">\n",
       "  <thead>\n",
       "    <tr style=\"text-align: right;\">\n",
       "      <th></th>\n",
       "      <th>encounter_id</th>\n",
       "      <th>patient_nbr</th>\n",
       "      <th>race</th>\n",
       "      <th>gender</th>\n",
       "      <th>age</th>\n",
       "      <th>weight</th>\n",
       "      <th>admission_type_id</th>\n",
       "      <th>discharge_disposition_id</th>\n",
       "      <th>admission_source_id</th>\n",
       "      <th>time_in_hospital</th>\n",
       "      <th>...</th>\n",
       "      <th>citoglipton</th>\n",
       "      <th>insulin</th>\n",
       "      <th>glyburide-metformin</th>\n",
       "      <th>glipizide-metformin</th>\n",
       "      <th>glimepiride-pioglitazone</th>\n",
       "      <th>metformin-rosiglitazone</th>\n",
       "      <th>metformin-pioglitazone</th>\n",
       "      <th>change</th>\n",
       "      <th>diabetesMed</th>\n",
       "      <th>readmitted</th>\n",
       "    </tr>\n",
       "  </thead>\n",
       "  <tbody>\n",
       "    <tr>\n",
       "      <th>0</th>\n",
       "      <td>2278392</td>\n",
       "      <td>8222157</td>\n",
       "      <td>Caucasian</td>\n",
       "      <td>Female</td>\n",
       "      <td>[0-10)</td>\n",
       "      <td>?</td>\n",
       "      <td>6</td>\n",
       "      <td>25</td>\n",
       "      <td>1</td>\n",
       "      <td>1</td>\n",
       "      <td>...</td>\n",
       "      <td>No</td>\n",
       "      <td>No</td>\n",
       "      <td>No</td>\n",
       "      <td>No</td>\n",
       "      <td>No</td>\n",
       "      <td>No</td>\n",
       "      <td>No</td>\n",
       "      <td>No</td>\n",
       "      <td>No</td>\n",
       "      <td>NO</td>\n",
       "    </tr>\n",
       "    <tr>\n",
       "      <th>1</th>\n",
       "      <td>149190</td>\n",
       "      <td>55629189</td>\n",
       "      <td>Caucasian</td>\n",
       "      <td>Female</td>\n",
       "      <td>[10-20)</td>\n",
       "      <td>?</td>\n",
       "      <td>1</td>\n",
       "      <td>1</td>\n",
       "      <td>7</td>\n",
       "      <td>3</td>\n",
       "      <td>...</td>\n",
       "      <td>No</td>\n",
       "      <td>Up</td>\n",
       "      <td>No</td>\n",
       "      <td>No</td>\n",
       "      <td>No</td>\n",
       "      <td>No</td>\n",
       "      <td>No</td>\n",
       "      <td>Ch</td>\n",
       "      <td>Yes</td>\n",
       "      <td>&gt;30</td>\n",
       "    </tr>\n",
       "    <tr>\n",
       "      <th>2</th>\n",
       "      <td>64410</td>\n",
       "      <td>86047875</td>\n",
       "      <td>AfricanAmerican</td>\n",
       "      <td>Female</td>\n",
       "      <td>[20-30)</td>\n",
       "      <td>?</td>\n",
       "      <td>1</td>\n",
       "      <td>1</td>\n",
       "      <td>7</td>\n",
       "      <td>2</td>\n",
       "      <td>...</td>\n",
       "      <td>No</td>\n",
       "      <td>No</td>\n",
       "      <td>No</td>\n",
       "      <td>No</td>\n",
       "      <td>No</td>\n",
       "      <td>No</td>\n",
       "      <td>No</td>\n",
       "      <td>No</td>\n",
       "      <td>Yes</td>\n",
       "      <td>NO</td>\n",
       "    </tr>\n",
       "    <tr>\n",
       "      <th>3</th>\n",
       "      <td>500364</td>\n",
       "      <td>82442376</td>\n",
       "      <td>Caucasian</td>\n",
       "      <td>Male</td>\n",
       "      <td>[30-40)</td>\n",
       "      <td>?</td>\n",
       "      <td>1</td>\n",
       "      <td>1</td>\n",
       "      <td>7</td>\n",
       "      <td>2</td>\n",
       "      <td>...</td>\n",
       "      <td>No</td>\n",
       "      <td>Up</td>\n",
       "      <td>No</td>\n",
       "      <td>No</td>\n",
       "      <td>No</td>\n",
       "      <td>No</td>\n",
       "      <td>No</td>\n",
       "      <td>Ch</td>\n",
       "      <td>Yes</td>\n",
       "      <td>NO</td>\n",
       "    </tr>\n",
       "    <tr>\n",
       "      <th>4</th>\n",
       "      <td>16680</td>\n",
       "      <td>42519267</td>\n",
       "      <td>Caucasian</td>\n",
       "      <td>Male</td>\n",
       "      <td>[40-50)</td>\n",
       "      <td>?</td>\n",
       "      <td>1</td>\n",
       "      <td>1</td>\n",
       "      <td>7</td>\n",
       "      <td>1</td>\n",
       "      <td>...</td>\n",
       "      <td>No</td>\n",
       "      <td>Steady</td>\n",
       "      <td>No</td>\n",
       "      <td>No</td>\n",
       "      <td>No</td>\n",
       "      <td>No</td>\n",
       "      <td>No</td>\n",
       "      <td>Ch</td>\n",
       "      <td>Yes</td>\n",
       "      <td>NO</td>\n",
       "    </tr>\n",
       "  </tbody>\n",
       "</table>\n",
       "<p>5 rows × 50 columns</p>\n",
       "</div>"
      ],
      "text/plain": [
       "   encounter_id  patient_nbr             race  gender      age weight  \\\n",
       "0       2278392      8222157        Caucasian  Female   [0-10)      ?   \n",
       "1        149190     55629189        Caucasian  Female  [10-20)      ?   \n",
       "2         64410     86047875  AfricanAmerican  Female  [20-30)      ?   \n",
       "3        500364     82442376        Caucasian    Male  [30-40)      ?   \n",
       "4         16680     42519267        Caucasian    Male  [40-50)      ?   \n",
       "\n",
       "   admission_type_id  discharge_disposition_id  admission_source_id  \\\n",
       "0                  6                        25                    1   \n",
       "1                  1                         1                    7   \n",
       "2                  1                         1                    7   \n",
       "3                  1                         1                    7   \n",
       "4                  1                         1                    7   \n",
       "\n",
       "   time_in_hospital  ... citoglipton insulin  glyburide-metformin  \\\n",
       "0                 1  ...          No      No                   No   \n",
       "1                 3  ...          No      Up                   No   \n",
       "2                 2  ...          No      No                   No   \n",
       "3                 2  ...          No      Up                   No   \n",
       "4                 1  ...          No  Steady                   No   \n",
       "\n",
       "   glipizide-metformin  glimepiride-pioglitazone  metformin-rosiglitazone  \\\n",
       "0                   No                        No                       No   \n",
       "1                   No                        No                       No   \n",
       "2                   No                        No                       No   \n",
       "3                   No                        No                       No   \n",
       "4                   No                        No                       No   \n",
       "\n",
       "   metformin-pioglitazone  change diabetesMed readmitted  \n",
       "0                      No      No          No         NO  \n",
       "1                      No      Ch         Yes        >30  \n",
       "2                      No      No         Yes         NO  \n",
       "3                      No      Ch         Yes         NO  \n",
       "4                      No      Ch         Yes         NO  \n",
       "\n",
       "[5 rows x 50 columns]"
      ]
     },
     "execution_count": 381,
     "metadata": {},
     "output_type": "execute_result"
    }
   ],
   "source": [
    "diabet = load_diabet_data()\n",
    "diabet.head()"
   ]
  },
  {
   "cell_type": "markdown",
   "metadata": {},
   "source": [
    "Теперь ознакомимся с признаками"
   ]
  },
  {
   "cell_type": "code",
   "execution_count": 382,
   "metadata": {
    "scrolled": false
   },
   "outputs": [
    {
     "name": "stdout",
     "output_type": "stream",
     "text": [
      "<class 'pandas.core.frame.DataFrame'>\n",
      "RangeIndex: 101766 entries, 0 to 101765\n",
      "Data columns (total 50 columns):\n",
      " #   Column                    Non-Null Count   Dtype \n",
      "---  ------                    --------------   ----- \n",
      " 0   encounter_id              101766 non-null  int64 \n",
      " 1   patient_nbr               101766 non-null  int64 \n",
      " 2   race                      101766 non-null  object\n",
      " 3   gender                    101766 non-null  object\n",
      " 4   age                       101766 non-null  object\n",
      " 5   weight                    101766 non-null  object\n",
      " 6   admission_type_id         101766 non-null  int64 \n",
      " 7   discharge_disposition_id  101766 non-null  int64 \n",
      " 8   admission_source_id       101766 non-null  int64 \n",
      " 9   time_in_hospital          101766 non-null  int64 \n",
      " 10  payer_code                101766 non-null  object\n",
      " 11  medical_specialty         101766 non-null  object\n",
      " 12  num_lab_procedures        101766 non-null  int64 \n",
      " 13  num_procedures            101766 non-null  int64 \n",
      " 14  num_medications           101766 non-null  int64 \n",
      " 15  number_outpatient         101766 non-null  int64 \n",
      " 16  number_emergency          101766 non-null  int64 \n",
      " 17  number_inpatient          101766 non-null  int64 \n",
      " 18  diag_1                    101766 non-null  object\n",
      " 19  diag_2                    101766 non-null  object\n",
      " 20  diag_3                    101766 non-null  object\n",
      " 21  number_diagnoses          101766 non-null  int64 \n",
      " 22  max_glu_serum             101766 non-null  object\n",
      " 23  A1Cresult                 101766 non-null  object\n",
      " 24  metformin                 101766 non-null  object\n",
      " 25  repaglinide               101766 non-null  object\n",
      " 26  nateglinide               101766 non-null  object\n",
      " 27  chlorpropamide            101766 non-null  object\n",
      " 28  glimepiride               101766 non-null  object\n",
      " 29  acetohexamide             101766 non-null  object\n",
      " 30  glipizide                 101766 non-null  object\n",
      " 31  glyburide                 101766 non-null  object\n",
      " 32  tolbutamide               101766 non-null  object\n",
      " 33  pioglitazone              101766 non-null  object\n",
      " 34  rosiglitazone             101766 non-null  object\n",
      " 35  acarbose                  101766 non-null  object\n",
      " 36  miglitol                  101766 non-null  object\n",
      " 37  troglitazone              101766 non-null  object\n",
      " 38  tolazamide                101766 non-null  object\n",
      " 39  examide                   101766 non-null  object\n",
      " 40  citoglipton               101766 non-null  object\n",
      " 41  insulin                   101766 non-null  object\n",
      " 42  glyburide-metformin       101766 non-null  object\n",
      " 43  glipizide-metformin       101766 non-null  object\n",
      " 44  glimepiride-pioglitazone  101766 non-null  object\n",
      " 45  metformin-rosiglitazone   101766 non-null  object\n",
      " 46  metformin-pioglitazone    101766 non-null  object\n",
      " 47  change                    101766 non-null  object\n",
      " 48  diabetesMed               101766 non-null  object\n",
      " 49  readmitted                101766 non-null  object\n",
      "dtypes: int64(13), object(37)\n",
      "memory usage: 38.8+ MB\n"
     ]
    }
   ],
   "source": [
    "diabet.info()"
   ]
  },
  {
   "cell_type": "markdown",
   "metadata": {},
   "source": [
    "Мы видим, что многие признаки имеют тип __object__, рассмотрим их подроебнее."
   ]
  },
  {
   "cell_type": "code",
   "execution_count": 383,
   "metadata": {
    "scrolled": true
   },
   "outputs": [
    {
     "data": {
      "text/plain": [
       "96210942     1\n",
       "89943846     1\n",
       "384306986    1\n",
       "94650156     1\n",
       "83156784     1\n",
       "            ..\n",
       "74454612     1\n",
       "208073976    1\n",
       "166229592    1\n",
       "38340702     1\n",
       "77856768     1\n",
       "Name: encounter_id, Length: 101766, dtype: int64"
      ]
     },
     "execution_count": 383,
     "metadata": {},
     "output_type": "execute_result"
    }
   ],
   "source": [
    "diabet[\"encounter_id\"].value_counts()"
   ]
  },
  {
   "cell_type": "code",
   "execution_count": 384,
   "metadata": {},
   "outputs": [
    {
     "data": {
      "text/plain": [
       "0     67630\n",
       "1     19521\n",
       "2      7566\n",
       "3      3411\n",
       "4      1622\n",
       "5       812\n",
       "6       480\n",
       "7       268\n",
       "8       151\n",
       "9       111\n",
       "10       61\n",
       "11       49\n",
       "12       34\n",
       "13       20\n",
       "14       10\n",
       "15        9\n",
       "16        6\n",
       "19        2\n",
       "17        1\n",
       "18        1\n",
       "21        1\n",
       "Name: number_inpatient, dtype: int64"
      ]
     },
     "execution_count": 384,
     "metadata": {},
     "output_type": "execute_result"
    }
   ],
   "source": [
    "diabet[\"number_inpatient\"].value_counts()"
   ]
  },
  {
   "cell_type": "code",
   "execution_count": 385,
   "metadata": {},
   "outputs": [
    {
     "data": {
      "text/plain": [
       "1     60234\n",
       "2      2128\n",
       "3     13954\n",
       "4       815\n",
       "5      1184\n",
       "6     12902\n",
       "7       623\n",
       "8       108\n",
       "9        21\n",
       "10        6\n",
       "11     1642\n",
       "12        3\n",
       "13      399\n",
       "14      372\n",
       "15       63\n",
       "16       11\n",
       "17       14\n",
       "18     3691\n",
       "19        8\n",
       "20        2\n",
       "22     1993\n",
       "23      412\n",
       "24       48\n",
       "25      989\n",
       "27        5\n",
       "28      139\n",
       "Name: discharge_disposition_id, dtype: int64"
      ]
     },
     "execution_count": 385,
     "metadata": {},
     "output_type": "execute_result"
    }
   ],
   "source": [
    "diabet[\"discharge_disposition_id\"].value_counts(sort = False)"
   ]
  },
  {
   "cell_type": "code",
   "execution_count": 386,
   "metadata": {
    "scrolled": false
   },
   "outputs": [
    {
     "data": {
      "text/plain": [
       "Caucasian          76099\n",
       "AfricanAmerican    19210\n",
       "?                   2273\n",
       "Hispanic            2037\n",
       "Other               1506\n",
       "Asian                641\n",
       "Name: race, dtype: int64"
      ]
     },
     "execution_count": 386,
     "metadata": {},
     "output_type": "execute_result"
    }
   ],
   "source": [
    "diabet[\"race\"].value_counts()"
   ]
  },
  {
   "cell_type": "code",
   "execution_count": 387,
   "metadata": {
    "scrolled": true
   },
   "outputs": [
    {
     "data": {
      "text/plain": [
       "Female             54708\n",
       "Male               47055\n",
       "Unknown/Invalid        3\n",
       "Name: gender, dtype: int64"
      ]
     },
     "execution_count": 387,
     "metadata": {},
     "output_type": "execute_result"
    }
   ],
   "source": [
    "diabet[\"gender\"].value_counts()"
   ]
  },
  {
   "cell_type": "code",
   "execution_count": 388,
   "metadata": {},
   "outputs": [
    {
     "data": {
      "text/plain": [
       "[80-90)     17197\n",
       "[70-80)     26068\n",
       "[50-60)     17256\n",
       "[90-100)     2793\n",
       "[40-50)      9685\n",
       "[60-70)     22483\n",
       "[30-40)      3775\n",
       "[20-30)      1657\n",
       "[0-10)        161\n",
       "[10-20)       691\n",
       "Name: age, dtype: int64"
      ]
     },
     "execution_count": 388,
     "metadata": {},
     "output_type": "execute_result"
    }
   ],
   "source": [
    "diabet[\"age\"].value_counts(sort = False)"
   ]
  },
  {
   "cell_type": "code",
   "execution_count": 389,
   "metadata": {
    "scrolled": false
   },
   "outputs": [
    {
     "data": {
      "text/plain": [
       "?            98569\n",
       "[75-100)      1336\n",
       "[50-75)        897\n",
       "[100-125)      625\n",
       "[125-150)      145\n",
       "[25-50)         97\n",
       "[0-25)          48\n",
       "[150-175)       35\n",
       "[175-200)       11\n",
       ">200             3\n",
       "Name: weight, dtype: int64"
      ]
     },
     "execution_count": 389,
     "metadata": {},
     "output_type": "execute_result"
    }
   ],
   "source": [
    "diabet[\"weight\"].value_counts()"
   ]
  },
  {
   "cell_type": "code",
   "execution_count": 390,
   "metadata": {
    "scrolled": true
   },
   "outputs": [
    {
     "data": {
      "text/plain": [
       "?     40256\n",
       "MC    32439\n",
       "HM     6274\n",
       "SP     5007\n",
       "BC     4655\n",
       "MD     3532\n",
       "CP     2533\n",
       "UN     2448\n",
       "CM     1937\n",
       "OG     1033\n",
       "PO      592\n",
       "DM      549\n",
       "CH      146\n",
       "WC      135\n",
       "OT       95\n",
       "MP       79\n",
       "SI       55\n",
       "FR        1\n",
       "Name: payer_code, dtype: int64"
      ]
     },
     "execution_count": 390,
     "metadata": {},
     "output_type": "execute_result"
    }
   ],
   "source": [
    "diabet[\"payer_code\"].value_counts()"
   ]
  },
  {
   "cell_type": "code",
   "execution_count": 391,
   "metadata": {
    "scrolled": true
   },
   "outputs": [
    {
     "data": {
      "text/plain": [
       "?                                   49949\n",
       "InternalMedicine                    14635\n",
       "Emergency/Trauma                     7565\n",
       "Family/GeneralPractice               7440\n",
       "Cardiology                           5352\n",
       "                                    ...  \n",
       "Dermatology                             1\n",
       "Surgery-PlasticwithinHeadandNeck        1\n",
       "Perinatology                            1\n",
       "Psychiatry-Addictive                    1\n",
       "Speech                                  1\n",
       "Name: medical_specialty, Length: 73, dtype: int64"
      ]
     },
     "execution_count": 391,
     "metadata": {},
     "output_type": "execute_result"
    }
   ],
   "source": [
    "diabet[\"medical_specialty\"].value_counts()"
   ]
  },
  {
   "cell_type": "code",
   "execution_count": 392,
   "metadata": {},
   "outputs": [
    {
     "data": {
      "text/plain": [
       "428    6862\n",
       "414    6581\n",
       "786    4016\n",
       "410    3614\n",
       "486    3508\n",
       "       ... \n",
       "839       1\n",
       "837       1\n",
       "870       1\n",
       "976       1\n",
       "216       1\n",
       "Name: diag_1, Length: 717, dtype: int64"
      ]
     },
     "execution_count": 392,
     "metadata": {},
     "output_type": "execute_result"
    }
   ],
   "source": [
    "diabet[\"diag_1\"].value_counts()"
   ]
  },
  {
   "cell_type": "code",
   "execution_count": 393,
   "metadata": {},
   "outputs": [
    {
     "data": {
      "text/plain": [
       "276     6752\n",
       "428     6662\n",
       "250     6071\n",
       "427     5036\n",
       "401     3736\n",
       "        ... \n",
       "256        1\n",
       "832        1\n",
       "E915       1\n",
       "948        1\n",
       "E883       1\n",
       "Name: diag_2, Length: 749, dtype: int64"
      ]
     },
     "execution_count": 393,
     "metadata": {},
     "output_type": "execute_result"
    }
   ],
   "source": [
    "diabet[\"diag_2\"].value_counts()"
   ]
  },
  {
   "cell_type": "code",
   "execution_count": 394,
   "metadata": {
    "scrolled": true
   },
   "outputs": [
    {
     "data": {
      "text/plain": [
       "250     11555\n",
       "401      8289\n",
       "276      5175\n",
       "428      4577\n",
       "427      3955\n",
       "        ...  \n",
       "E864        1\n",
       "230         1\n",
       "841         1\n",
       "992         1\n",
       "E883        1\n",
       "Name: diag_3, Length: 790, dtype: int64"
      ]
     },
     "execution_count": 394,
     "metadata": {},
     "output_type": "execute_result"
    }
   ],
   "source": [
    "diabet[\"diag_3\"].value_counts()"
   ]
  },
  {
   "cell_type": "code",
   "execution_count": 395,
   "metadata": {
    "scrolled": false
   },
   "outputs": [
    {
     "data": {
      "text/plain": [
       "None    96420\n",
       "Norm     2597\n",
       ">200     1485\n",
       ">300     1264\n",
       "Name: max_glu_serum, dtype: int64"
      ]
     },
     "execution_count": 395,
     "metadata": {},
     "output_type": "execute_result"
    }
   ],
   "source": [
    "diabet[\"max_glu_serum\"].value_counts()"
   ]
  },
  {
   "cell_type": "code",
   "execution_count": 396,
   "metadata": {
    "scrolled": true
   },
   "outputs": [
    {
     "data": {
      "text/plain": [
       "None    84748\n",
       ">8       8216\n",
       "Norm     4990\n",
       ">7       3812\n",
       "Name: A1Cresult, dtype: int64"
      ]
     },
     "execution_count": 396,
     "metadata": {},
     "output_type": "execute_result"
    }
   ],
   "source": [
    "diabet[\"A1Cresult\"].value_counts()"
   ]
  },
  {
   "cell_type": "code",
   "execution_count": 397,
   "metadata": {},
   "outputs": [
    {
     "data": {
      "text/plain": [
       "No        81778\n",
       "Steady    18346\n",
       "Up         1067\n",
       "Down        575\n",
       "Name: metformin, dtype: int64"
      ]
     },
     "execution_count": 397,
     "metadata": {},
     "output_type": "execute_result"
    }
   ],
   "source": [
    "diabet[\"metformin\"].value_counts()"
   ]
  },
  {
   "cell_type": "code",
   "execution_count": 398,
   "metadata": {},
   "outputs": [
    {
     "data": {
      "text/plain": [
       "No        100227\n",
       "Steady      1384\n",
       "Up           110\n",
       "Down          45\n",
       "Name: repaglinide, dtype: int64"
      ]
     },
     "execution_count": 398,
     "metadata": {},
     "output_type": "execute_result"
    }
   ],
   "source": [
    "diabet[\"repaglinide\"].value_counts()"
   ]
  },
  {
   "cell_type": "code",
   "execution_count": 399,
   "metadata": {},
   "outputs": [
    {
     "data": {
      "text/plain": [
       "No        101063\n",
       "Steady       668\n",
       "Up            24\n",
       "Down          11\n",
       "Name: nateglinide, dtype: int64"
      ]
     },
     "execution_count": 399,
     "metadata": {},
     "output_type": "execute_result"
    }
   ],
   "source": [
    "diabet[\"nateglinide\"].value_counts()"
   ]
  },
  {
   "cell_type": "code",
   "execution_count": 400,
   "metadata": {},
   "outputs": [
    {
     "data": {
      "text/plain": [
       "No        101680\n",
       "Steady        79\n",
       "Up             6\n",
       "Down           1\n",
       "Name: chlorpropamide, dtype: int64"
      ]
     },
     "execution_count": 400,
     "metadata": {},
     "output_type": "execute_result"
    }
   ],
   "source": [
    "diabet[\"chlorpropamide\"].value_counts()"
   ]
  },
  {
   "cell_type": "code",
   "execution_count": 401,
   "metadata": {},
   "outputs": [
    {
     "data": {
      "text/plain": [
       "No        96575\n",
       "Steady     4670\n",
       "Up          327\n",
       "Down        194\n",
       "Name: glimepiride, dtype: int64"
      ]
     },
     "execution_count": 401,
     "metadata": {},
     "output_type": "execute_result"
    }
   ],
   "source": [
    "diabet[\"glimepiride\"].value_counts()"
   ]
  },
  {
   "cell_type": "code",
   "execution_count": 402,
   "metadata": {},
   "outputs": [
    {
     "data": {
      "text/plain": [
       "No        101765\n",
       "Steady         1\n",
       "Name: acetohexamide, dtype: int64"
      ]
     },
     "execution_count": 402,
     "metadata": {},
     "output_type": "execute_result"
    }
   ],
   "source": [
    "diabet[\"acetohexamide\"].value_counts()"
   ]
  },
  {
   "cell_type": "code",
   "execution_count": 403,
   "metadata": {},
   "outputs": [
    {
     "data": {
      "text/plain": [
       "No        89080\n",
       "Steady    11356\n",
       "Up          770\n",
       "Down        560\n",
       "Name: glipizide, dtype: int64"
      ]
     },
     "execution_count": 403,
     "metadata": {},
     "output_type": "execute_result"
    }
   ],
   "source": [
    "diabet[\"glipizide\"].value_counts()"
   ]
  },
  {
   "cell_type": "code",
   "execution_count": 404,
   "metadata": {},
   "outputs": [
    {
     "data": {
      "text/plain": [
       "No        91116\n",
       "Steady     9274\n",
       "Up          812\n",
       "Down        564\n",
       "Name: glyburide, dtype: int64"
      ]
     },
     "execution_count": 404,
     "metadata": {},
     "output_type": "execute_result"
    }
   ],
   "source": [
    "diabet[\"glyburide\"].value_counts()"
   ]
  },
  {
   "cell_type": "code",
   "execution_count": 405,
   "metadata": {
    "scrolled": true
   },
   "outputs": [
    {
     "data": {
      "text/plain": [
       "No        101743\n",
       "Steady        23\n",
       "Name: tolbutamide, dtype: int64"
      ]
     },
     "execution_count": 405,
     "metadata": {},
     "output_type": "execute_result"
    }
   ],
   "source": [
    "diabet[\"tolbutamide\"].value_counts()"
   ]
  },
  {
   "cell_type": "code",
   "execution_count": 406,
   "metadata": {},
   "outputs": [
    {
     "data": {
      "text/plain": [
       "No        94438\n",
       "Steady     6976\n",
       "Up          234\n",
       "Down        118\n",
       "Name: pioglitazone, dtype: int64"
      ]
     },
     "execution_count": 406,
     "metadata": {},
     "output_type": "execute_result"
    }
   ],
   "source": [
    "diabet[\"pioglitazone\"].value_counts()"
   ]
  },
  {
   "cell_type": "code",
   "execution_count": 407,
   "metadata": {},
   "outputs": [
    {
     "data": {
      "text/plain": [
       "No        95401\n",
       "Steady     6100\n",
       "Up          178\n",
       "Down         87\n",
       "Name: rosiglitazone, dtype: int64"
      ]
     },
     "execution_count": 407,
     "metadata": {},
     "output_type": "execute_result"
    }
   ],
   "source": [
    "diabet[\"rosiglitazone\"].value_counts()"
   ]
  },
  {
   "cell_type": "code",
   "execution_count": 408,
   "metadata": {},
   "outputs": [
    {
     "data": {
      "text/plain": [
       "No        101458\n",
       "Steady       295\n",
       "Up            10\n",
       "Down           3\n",
       "Name: acarbose, dtype: int64"
      ]
     },
     "execution_count": 408,
     "metadata": {},
     "output_type": "execute_result"
    }
   ],
   "source": [
    "diabet[\"acarbose\"].value_counts()"
   ]
  },
  {
   "cell_type": "code",
   "execution_count": 409,
   "metadata": {},
   "outputs": [
    {
     "data": {
      "text/plain": [
       "No        101728\n",
       "Steady        31\n",
       "Down           5\n",
       "Up             2\n",
       "Name: miglitol, dtype: int64"
      ]
     },
     "execution_count": 409,
     "metadata": {},
     "output_type": "execute_result"
    }
   ],
   "source": [
    "diabet[\"miglitol\"].value_counts()"
   ]
  },
  {
   "cell_type": "code",
   "execution_count": 410,
   "metadata": {
    "scrolled": true
   },
   "outputs": [
    {
     "data": {
      "text/plain": [
       "No        101763\n",
       "Steady         3\n",
       "Name: troglitazone, dtype: int64"
      ]
     },
     "execution_count": 410,
     "metadata": {},
     "output_type": "execute_result"
    }
   ],
   "source": [
    "diabet[\"troglitazone\"].value_counts()"
   ]
  },
  {
   "cell_type": "code",
   "execution_count": 411,
   "metadata": {
    "scrolled": true
   },
   "outputs": [
    {
     "data": {
      "text/plain": [
       "No        101727\n",
       "Steady        38\n",
       "Up             1\n",
       "Name: tolazamide, dtype: int64"
      ]
     },
     "execution_count": 411,
     "metadata": {},
     "output_type": "execute_result"
    }
   ],
   "source": [
    "diabet[\"tolazamide\"].value_counts()"
   ]
  },
  {
   "cell_type": "code",
   "execution_count": 412,
   "metadata": {
    "scrolled": true
   },
   "outputs": [
    {
     "data": {
      "text/plain": [
       "No    101766\n",
       "Name: examide, dtype: int64"
      ]
     },
     "execution_count": 412,
     "metadata": {},
     "output_type": "execute_result"
    }
   ],
   "source": [
    "diabet[\"examide\"].value_counts()"
   ]
  },
  {
   "cell_type": "code",
   "execution_count": 413,
   "metadata": {
    "scrolled": false
   },
   "outputs": [
    {
     "data": {
      "text/plain": [
       "No    101766\n",
       "Name: citoglipton, dtype: int64"
      ]
     },
     "execution_count": 413,
     "metadata": {},
     "output_type": "execute_result"
    }
   ],
   "source": [
    "diabet[\"citoglipton\"].value_counts()"
   ]
  },
  {
   "cell_type": "code",
   "execution_count": 414,
   "metadata": {},
   "outputs": [
    {
     "data": {
      "text/plain": [
       "No        47383\n",
       "Steady    30849\n",
       "Down      12218\n",
       "Up        11316\n",
       "Name: insulin, dtype: int64"
      ]
     },
     "execution_count": 414,
     "metadata": {},
     "output_type": "execute_result"
    }
   ],
   "source": [
    "diabet[\"insulin\"].value_counts()"
   ]
  },
  {
   "cell_type": "code",
   "execution_count": 415,
   "metadata": {},
   "outputs": [
    {
     "data": {
      "text/plain": [
       "No        101060\n",
       "Steady       692\n",
       "Up             8\n",
       "Down           6\n",
       "Name: glyburide-metformin, dtype: int64"
      ]
     },
     "execution_count": 415,
     "metadata": {},
     "output_type": "execute_result"
    }
   ],
   "source": [
    "diabet[\"glyburide-metformin\"].value_counts()"
   ]
  },
  {
   "cell_type": "code",
   "execution_count": 416,
   "metadata": {
    "scrolled": true
   },
   "outputs": [
    {
     "data": {
      "text/plain": [
       "No        101753\n",
       "Steady        13\n",
       "Name: glipizide-metformin, dtype: int64"
      ]
     },
     "execution_count": 416,
     "metadata": {},
     "output_type": "execute_result"
    }
   ],
   "source": [
    "diabet[\"glipizide-metformin\"].value_counts()"
   ]
  },
  {
   "cell_type": "code",
   "execution_count": 417,
   "metadata": {
    "scrolled": true
   },
   "outputs": [
    {
     "data": {
      "text/plain": [
       "No        101765\n",
       "Steady         1\n",
       "Name: glimepiride-pioglitazone, dtype: int64"
      ]
     },
     "execution_count": 417,
     "metadata": {},
     "output_type": "execute_result"
    }
   ],
   "source": [
    "diabet[\"glimepiride-pioglitazone\"].value_counts()"
   ]
  },
  {
   "cell_type": "code",
   "execution_count": 418,
   "metadata": {
    "scrolled": true
   },
   "outputs": [
    {
     "data": {
      "text/plain": [
       "No        101764\n",
       "Steady         2\n",
       "Name: metformin-rosiglitazone, dtype: int64"
      ]
     },
     "execution_count": 418,
     "metadata": {},
     "output_type": "execute_result"
    }
   ],
   "source": [
    "diabet[\"metformin-rosiglitazone\"].value_counts()"
   ]
  },
  {
   "cell_type": "code",
   "execution_count": 419,
   "metadata": {
    "scrolled": false
   },
   "outputs": [
    {
     "data": {
      "text/plain": [
       "No        101765\n",
       "Steady         1\n",
       "Name: metformin-pioglitazone, dtype: int64"
      ]
     },
     "execution_count": 419,
     "metadata": {},
     "output_type": "execute_result"
    }
   ],
   "source": [
    "diabet[\"metformin-pioglitazone\"].value_counts()"
   ]
  },
  {
   "cell_type": "code",
   "execution_count": 420,
   "metadata": {},
   "outputs": [
    {
     "data": {
      "text/plain": [
       "No    54755\n",
       "Ch    47011\n",
       "Name: change, dtype: int64"
      ]
     },
     "execution_count": 420,
     "metadata": {},
     "output_type": "execute_result"
    }
   ],
   "source": [
    "diabet[\"change\"].value_counts()"
   ]
  },
  {
   "cell_type": "code",
   "execution_count": 421,
   "metadata": {},
   "outputs": [
    {
     "data": {
      "text/plain": [
       "Yes    78363\n",
       "No     23403\n",
       "Name: diabetesMed, dtype: int64"
      ]
     },
     "execution_count": 421,
     "metadata": {},
     "output_type": "execute_result"
    }
   ],
   "source": [
    "diabet[\"diabetesMed\"].value_counts()"
   ]
  },
  {
   "cell_type": "code",
   "execution_count": 422,
   "metadata": {
    "scrolled": false
   },
   "outputs": [
    {
     "data": {
      "text/plain": [
       "NO     54864\n",
       ">30    35545\n",
       "<30    11357\n",
       "Name: readmitted, dtype: int64"
      ]
     },
     "execution_count": 422,
     "metadata": {},
     "output_type": "execute_result"
    }
   ],
   "source": [
    "diabet[\"readmitted\"].value_counts()"
   ]
  },
  {
   "cell_type": "markdown",
   "metadata": {},
   "source": [
    "Мы увидели, что многие признаки имеют одинаковые значения для всех элементов, за исключением пары штук. Также есть признаки, значения которых неизвестны, более чем для 95% датасета. Их мы удалим. <br/>\n",
    "Если же процент пропущенных значений невелик, то заполним их наиболее часто встречающимся значением, так как эти признаки категориальные."
   ]
  },
  {
   "cell_type": "code",
   "execution_count": 423,
   "metadata": {},
   "outputs": [],
   "source": [
    "del_list = [\"patient_nbr\", \"metformin-pioglitazone\",\"glimepiride-pioglitazone\",\n",
    "           \"glipizide-metformin\", \"citoglipton\", \"examide\", \"troglitazone\",\n",
    "           \"tolbutamide\", \"acetohexamide\", \"max_glu_serum\", \"weight\", \"encounter_id\", \n",
    "           \"metformin-rosiglitazone\"]\n",
    "\n",
    "for i in del_list:\n",
    "    del diabet[i]\n",
    "    \n",
    "diabet[\"race\"] = diabet[\"race\"].replace('?', 'Caucasian')\n",
    "diabet[\"gender\"] = diabet[\"gender\"].replace('Unknown/Invalid', 'Female')\n",
    "diabet[\"payer_code\"] = diabet[\"payer_code\"].replace('?', 'MC')\n",
    "diabet[\"medical_specialty\"] = diabet[\"medical_specialty\"].replace('?', 'InternalMedicine')"
   ]
  },
  {
   "cell_type": "markdown",
   "metadata": {},
   "source": [
    "Далее обработаем категориальные признаки:"
   ]
  },
  {
   "cell_type": "code",
   "execution_count": 424,
   "metadata": {},
   "outputs": [],
   "source": [
    "from sklearn.preprocessing import LabelEncoder\n",
    "le = LabelEncoder()\n",
    "\n",
    "diabet_list = list(diabet)\n",
    "for i in diabet_list:\n",
    "    if diabet[i].dtype == \"object\":\n",
    "        diabet[i] = le.fit_transform(diabet[i]) "
   ]
  },
  {
   "cell_type": "code",
   "execution_count": 425,
   "metadata": {
    "scrolled": false
   },
   "outputs": [
    {
     "name": "stdout",
     "output_type": "stream",
     "text": [
      "<class 'pandas.core.frame.DataFrame'>\n",
      "RangeIndex: 101766 entries, 0 to 101765\n",
      "Data columns (total 37 columns):\n",
      " #   Column                    Non-Null Count   Dtype\n",
      "---  ------                    --------------   -----\n",
      " 0   race                      101766 non-null  int32\n",
      " 1   gender                    101766 non-null  int32\n",
      " 2   age                       101766 non-null  int32\n",
      " 3   admission_type_id         101766 non-null  int64\n",
      " 4   discharge_disposition_id  101766 non-null  int64\n",
      " 5   admission_source_id       101766 non-null  int64\n",
      " 6   time_in_hospital          101766 non-null  int64\n",
      " 7   payer_code                101766 non-null  int32\n",
      " 8   medical_specialty         101766 non-null  int32\n",
      " 9   num_lab_procedures        101766 non-null  int64\n",
      " 10  num_procedures            101766 non-null  int64\n",
      " 11  num_medications           101766 non-null  int64\n",
      " 12  number_outpatient         101766 non-null  int64\n",
      " 13  number_emergency          101766 non-null  int64\n",
      " 14  number_inpatient          101766 non-null  int64\n",
      " 15  diag_1                    101766 non-null  int32\n",
      " 16  diag_2                    101766 non-null  int32\n",
      " 17  diag_3                    101766 non-null  int32\n",
      " 18  number_diagnoses          101766 non-null  int64\n",
      " 19  A1Cresult                 101766 non-null  int32\n",
      " 20  metformin                 101766 non-null  int32\n",
      " 21  repaglinide               101766 non-null  int32\n",
      " 22  nateglinide               101766 non-null  int32\n",
      " 23  chlorpropamide            101766 non-null  int32\n",
      " 24  glimepiride               101766 non-null  int32\n",
      " 25  glipizide                 101766 non-null  int32\n",
      " 26  glyburide                 101766 non-null  int32\n",
      " 27  pioglitazone              101766 non-null  int32\n",
      " 28  rosiglitazone             101766 non-null  int32\n",
      " 29  acarbose                  101766 non-null  int32\n",
      " 30  miglitol                  101766 non-null  int32\n",
      " 31  tolazamide                101766 non-null  int32\n",
      " 32  insulin                   101766 non-null  int32\n",
      " 33  glyburide-metformin       101766 non-null  int32\n",
      " 34  change                    101766 non-null  int32\n",
      " 35  diabetesMed               101766 non-null  int32\n",
      " 36  readmitted                101766 non-null  int32\n",
      "dtypes: int32(26), int64(11)\n",
      "memory usage: 18.6 MB\n"
     ]
    }
   ],
   "source": [
    "diabet.info()"
   ]
  },
  {
   "cell_type": "markdown",
   "metadata": {},
   "source": [
    "Проверим признаку на линейную корреляцию:"
   ]
  },
  {
   "cell_type": "code",
   "execution_count": 426,
   "metadata": {},
   "outputs": [
    {
     "data": {
      "image/png": "[encoded data removed]",
      "text/plain": [
       "<Figure size 288x288 with 1 Axes>"
      ]
     },
     "metadata": {
      "needs_background": "light"
     },
     "output_type": "display_data"
    }
   ],
   "source": [
    "import matplotlib.pyplot as plt\n",
    "\n",
    "plt.matshow(diabet.corr())\n",
    "plt.show()"
   ]
  },
  {
   "cell_type": "code",
   "execution_count": 427,
   "metadata": {
    "scrolled": false
   },
   "outputs": [
    {
     "data": {
      "text/html": [
       "<div>\n",
       "<style scoped>\n",
       "    .dataframe tbody tr th:only-of-type {\n",
       "        vertical-align: middle;\n",
       "    }\n",
       "\n",
       "    .dataframe tbody tr th {\n",
       "        vertical-align: top;\n",
       "    }\n",
       "\n",
       "    .dataframe thead th {\n",
       "        text-align: right;\n",
       "    }\n",
       "</style>\n",
       "<table border=\"1\" class=\"dataframe\">\n",
       "  <thead>\n",
       "    <tr style=\"text-align: right;\">\n",
       "      <th></th>\n",
       "      <th>race</th>\n",
       "      <th>gender</th>\n",
       "      <th>age</th>\n",
       "      <th>admission_type_id</th>\n",
       "      <th>discharge_disposition_id</th>\n",
       "      <th>admission_source_id</th>\n",
       "      <th>time_in_hospital</th>\n",
       "      <th>payer_code</th>\n",
       "      <th>medical_specialty</th>\n",
       "      <th>num_lab_procedures</th>\n",
       "      <th>...</th>\n",
       "      <th>pioglitazone</th>\n",
       "      <th>rosiglitazone</th>\n",
       "      <th>acarbose</th>\n",
       "      <th>miglitol</th>\n",
       "      <th>tolazamide</th>\n",
       "      <th>insulin</th>\n",
       "      <th>glyburide-metformin</th>\n",
       "      <th>change</th>\n",
       "      <th>diabetesMed</th>\n",
       "      <th>readmitted</th>\n",
       "    </tr>\n",
       "  </thead>\n",
       "  <tbody>\n",
       "    <tr>\n",
       "      <th>race</th>\n",
       "      <td>1.000000</td>\n",
       "      <td>0.064888</td>\n",
       "      <td>0.123114</td>\n",
       "      <td>0.109793</td>\n",
       "      <td>0.020469</td>\n",
       "      <td>-0.000555</td>\n",
       "      <td>-0.018946</td>\n",
       "      <td>0.008848</td>\n",
       "      <td>-0.043728</td>\n",
       "      <td>-0.013067</td>\n",
       "      <td>...</td>\n",
       "      <td>0.023288</td>\n",
       "      <td>0.004789</td>\n",
       "      <td>0.015603</td>\n",
       "      <td>-0.001614</td>\n",
       "      <td>-0.000654</td>\n",
       "      <td>-0.021691</td>\n",
       "      <td>0.008334</td>\n",
       "      <td>-0.013585</td>\n",
       "      <td>0.002383</td>\n",
       "      <td>0.002185</td>\n",
       "    </tr>\n",
       "    <tr>\n",
       "      <th>gender</th>\n",
       "      <td>0.064888</td>\n",
       "      <td>1.000000</td>\n",
       "      <td>-0.066229</td>\n",
       "      <td>0.017608</td>\n",
       "      <td>-0.051628</td>\n",
       "      <td>-0.006210</td>\n",
       "      <td>-0.038584</td>\n",
       "      <td>-0.010021</td>\n",
       "      <td>-0.010294</td>\n",
       "      <td>-0.008020</td>\n",
       "      <td>...</td>\n",
       "      <td>0.004841</td>\n",
       "      <td>0.010222</td>\n",
       "      <td>0.010895</td>\n",
       "      <td>0.001075</td>\n",
       "      <td>0.007016</td>\n",
       "      <td>0.003066</td>\n",
       "      <td>0.004060</td>\n",
       "      <td>-0.014858</td>\n",
       "      <td>0.015932</td>\n",
       "      <td>0.016240</td>\n",
       "    </tr>\n",
       "    <tr>\n",
       "      <th>age</th>\n",
       "      <td>0.123114</td>\n",
       "      <td>-0.066229</td>\n",
       "      <td>1.000000</td>\n",
       "      <td>-0.022328</td>\n",
       "      <td>0.253296</td>\n",
       "      <td>0.048851</td>\n",
       "      <td>0.119799</td>\n",
       "      <td>0.027187</td>\n",
       "      <td>-0.054190</td>\n",
       "      <td>0.027635</td>\n",
       "      <td>...</td>\n",
       "      <td>0.002030</td>\n",
       "      <td>-0.005564</td>\n",
       "      <td>0.004731</td>\n",
       "      <td>0.007103</td>\n",
       "      <td>0.005014</td>\n",
       "      <td>-0.016867</td>\n",
       "      <td>-0.005654</td>\n",
       "      <td>0.042424</td>\n",
       "      <td>-0.021879</td>\n",
       "      <td>-0.031042</td>\n",
       "    </tr>\n",
       "    <tr>\n",
       "      <th>admission_type_id</th>\n",
       "      <td>0.109793</td>\n",
       "      <td>0.017608</td>\n",
       "      <td>-0.022328</td>\n",
       "      <td>1.000000</td>\n",
       "      <td>0.021230</td>\n",
       "      <td>-0.382671</td>\n",
       "      <td>-0.015236</td>\n",
       "      <td>0.053572</td>\n",
       "      <td>0.064630</td>\n",
       "      <td>-0.224130</td>\n",
       "      <td>...</td>\n",
       "      <td>0.021699</td>\n",
       "      <td>0.028802</td>\n",
       "      <td>0.006140</td>\n",
       "      <td>0.003826</td>\n",
       "      <td>0.005353</td>\n",
       "      <td>-0.016579</td>\n",
       "      <td>0.010181</td>\n",
       "      <td>-0.021045</td>\n",
       "      <td>0.008185</td>\n",
       "      <td>0.022614</td>\n",
       "    </tr>\n",
       "    <tr>\n",
       "      <th>discharge_disposition_id</th>\n",
       "      <td>0.020469</td>\n",
       "      <td>-0.051628</td>\n",
       "      <td>0.253296</td>\n",
       "      <td>0.021230</td>\n",
       "      <td>1.000000</td>\n",
       "      <td>0.041549</td>\n",
       "      <td>0.275510</td>\n",
       "      <td>0.013699</td>\n",
       "      <td>0.040380</td>\n",
       "      <td>0.059316</td>\n",
       "      <td>...</td>\n",
       "      <td>-0.016171</td>\n",
       "      <td>-0.007550</td>\n",
       "      <td>0.003811</td>\n",
       "      <td>0.007457</td>\n",
       "      <td>0.003790</td>\n",
       "      <td>-0.010597</td>\n",
       "      <td>-0.006345</td>\n",
       "      <td>-0.011166</td>\n",
       "      <td>-0.014680</td>\n",
       "      <td>-0.029592</td>\n",
       "    </tr>\n",
       "    <tr>\n",
       "      <th>admission_source_id</th>\n",
       "      <td>-0.000555</td>\n",
       "      <td>-0.006210</td>\n",
       "      <td>0.048851</td>\n",
       "      <td>-0.382671</td>\n",
       "      <td>0.041549</td>\n",
       "      <td>1.000000</td>\n",
       "      <td>0.003041</td>\n",
       "      <td>0.004640</td>\n",
       "      <td>-0.205618</td>\n",
       "      <td>0.135564</td>\n",
       "      <td>...</td>\n",
       "      <td>-0.015952</td>\n",
       "      <td>-0.018717</td>\n",
       "      <td>0.000568</td>\n",
       "      <td>0.002573</td>\n",
       "      <td>0.002035</td>\n",
       "      <td>-0.009677</td>\n",
       "      <td>-0.018646</td>\n",
       "      <td>-0.008114</td>\n",
       "      <td>0.000880</td>\n",
       "      <td>-0.054446</td>\n",
       "    </tr>\n",
       "    <tr>\n",
       "      <th>time_in_hospital</th>\n",
       "      <td>-0.018946</td>\n",
       "      <td>-0.038584</td>\n",
       "      <td>0.119799</td>\n",
       "      <td>-0.015236</td>\n",
       "      <td>0.275510</td>\n",
       "      <td>0.003041</td>\n",
       "      <td>1.000000</td>\n",
       "      <td>0.022404</td>\n",
       "      <td>0.046353</td>\n",
       "      <td>0.336792</td>\n",
       "      <td>...</td>\n",
       "      <td>0.001977</td>\n",
       "      <td>0.005833</td>\n",
       "      <td>0.004820</td>\n",
       "      <td>0.003576</td>\n",
       "      <td>-0.002711</td>\n",
       "      <td>0.046310</td>\n",
       "      <td>-0.003493</td>\n",
       "      <td>-0.118235</td>\n",
       "      <td>0.071568</td>\n",
       "      <td>-0.066664</td>\n",
       "    </tr>\n",
       "    <tr>\n",
       "      <th>payer_code</th>\n",
       "      <td>0.008848</td>\n",
       "      <td>-0.010021</td>\n",
       "      <td>0.027187</td>\n",
       "      <td>0.053572</td>\n",
       "      <td>0.013699</td>\n",
       "      <td>0.004640</td>\n",
       "      <td>0.022404</td>\n",
       "      <td>1.000000</td>\n",
       "      <td>-0.066835</td>\n",
       "      <td>0.007839</td>\n",
       "      <td>...</td>\n",
       "      <td>-0.014363</td>\n",
       "      <td>-0.008477</td>\n",
       "      <td>-0.010618</td>\n",
       "      <td>0.004533</td>\n",
       "      <td>0.001047</td>\n",
       "      <td>0.008776</td>\n",
       "      <td>0.020316</td>\n",
       "      <td>-0.044804</td>\n",
       "      <td>0.038349</td>\n",
       "      <td>-0.014900</td>\n",
       "    </tr>\n",
       "    <tr>\n",
       "      <th>medical_specialty</th>\n",
       "      <td>-0.043728</td>\n",
       "      <td>-0.010294</td>\n",
       "      <td>-0.054190</td>\n",
       "      <td>0.064630</td>\n",
       "      <td>0.040380</td>\n",
       "      <td>-0.205618</td>\n",
       "      <td>0.046353</td>\n",
       "      <td>-0.066835</td>\n",
       "      <td>1.000000</td>\n",
       "      <td>-0.070506</td>\n",
       "      <td>...</td>\n",
       "      <td>0.006228</td>\n",
       "      <td>-0.001358</td>\n",
       "      <td>-0.005731</td>\n",
       "      <td>-0.013520</td>\n",
       "      <td>0.000681</td>\n",
       "      <td>-0.000450</td>\n",
       "      <td>-0.003765</td>\n",
       "      <td>0.030137</td>\n",
       "      <td>-0.019032</td>\n",
       "      <td>0.031409</td>\n",
       "    </tr>\n",
       "    <tr>\n",
       "      <th>num_lab_procedures</th>\n",
       "      <td>-0.013067</td>\n",
       "      <td>-0.008020</td>\n",
       "      <td>0.027635</td>\n",
       "      <td>-0.224130</td>\n",
       "      <td>0.059316</td>\n",
       "      <td>0.135564</td>\n",
       "      <td>0.336792</td>\n",
       "      <td>0.007839</td>\n",
       "      <td>-0.070506</td>\n",
       "      <td>1.000000</td>\n",
       "      <td>...</td>\n",
       "      <td>-0.016153</td>\n",
       "      <td>-0.010205</td>\n",
       "      <td>-0.000667</td>\n",
       "      <td>-0.002918</td>\n",
       "      <td>-0.000951</td>\n",
       "      <td>0.034590</td>\n",
       "      <td>-0.008161</td>\n",
       "      <td>-0.065964</td>\n",
       "      <td>0.037083</td>\n",
       "      <td>-0.040907</td>\n",
       "    </tr>\n",
       "    <tr>\n",
       "      <th>num_procedures</th>\n",
       "      <td>0.013583</td>\n",
       "      <td>0.048959</td>\n",
       "      <td>-0.058117</td>\n",
       "      <td>0.216832</td>\n",
       "      <td>0.013391</td>\n",
       "      <td>-0.204772</td>\n",
       "      <td>0.187216</td>\n",
       "      <td>-0.019333</td>\n",
       "      <td>0.062936</td>\n",
       "      <td>0.022887</td>\n",
       "      <td>...</td>\n",
       "      <td>0.013078</td>\n",
       "      <td>0.013118</td>\n",
       "      <td>-0.001965</td>\n",
       "      <td>0.000838</td>\n",
       "      <td>0.003032</td>\n",
       "      <td>0.002275</td>\n",
       "      <td>-0.000540</td>\n",
       "      <td>0.004257</td>\n",
       "      <td>-0.017185</td>\n",
       "      <td>0.041505</td>\n",
       "    </tr>\n",
       "    <tr>\n",
       "      <th>num_medications</th>\n",
       "      <td>0.028204</td>\n",
       "      <td>-0.039134</td>\n",
       "      <td>0.026721</td>\n",
       "      <td>0.086519</td>\n",
       "      <td>0.170789</td>\n",
       "      <td>-0.063131</td>\n",
       "      <td>0.465094</td>\n",
       "      <td>-0.026198</td>\n",
       "      <td>0.086150</td>\n",
       "      <td>0.251634</td>\n",
       "      <td>...</td>\n",
       "      <td>0.069532</td>\n",
       "      <td>0.055682</td>\n",
       "      <td>0.019224</td>\n",
       "      <td>0.003079</td>\n",
       "      <td>-0.003490</td>\n",
       "      <td>0.073413</td>\n",
       "      <td>0.008596</td>\n",
       "      <td>-0.253612</td>\n",
       "      <td>0.198868</td>\n",
       "      <td>-0.073346</td>\n",
       "    </tr>\n",
       "    <tr>\n",
       "      <th>number_outpatient</th>\n",
       "      <td>0.050618</td>\n",
       "      <td>-0.012809</td>\n",
       "      <td>0.022967</td>\n",
       "      <td>0.029509</td>\n",
       "      <td>0.033117</td>\n",
       "      <td>0.024304</td>\n",
       "      <td>-0.013302</td>\n",
       "      <td>-0.070476</td>\n",
       "      <td>0.028499</td>\n",
       "      <td>-0.023545</td>\n",
       "      <td>...</td>\n",
       "      <td>0.016379</td>\n",
       "      <td>0.003074</td>\n",
       "      <td>0.018018</td>\n",
       "      <td>-0.006569</td>\n",
       "      <td>-0.007408</td>\n",
       "      <td>0.003110</td>\n",
       "      <td>-0.004589</td>\n",
       "      <td>-0.031070</td>\n",
       "      <td>0.019535</td>\n",
       "      <td>-0.104465</td>\n",
       "    </tr>\n",
       "    <tr>\n",
       "      <th>number_emergency</th>\n",
       "      <td>-0.039170</td>\n",
       "      <td>-0.031165</td>\n",
       "      <td>-0.057150</td>\n",
       "      <td>-0.033208</td>\n",
       "      <td>0.007064</td>\n",
       "      <td>0.104007</td>\n",
       "      <td>-0.000934</td>\n",
       "      <td>-0.013170</td>\n",
       "      <td>-0.036769</td>\n",
       "      <td>0.005966</td>\n",
       "      <td>...</td>\n",
       "      <td>0.011105</td>\n",
       "      <td>0.002904</td>\n",
       "      <td>-0.000803</td>\n",
       "      <td>0.004269</td>\n",
       "      <td>-0.003873</td>\n",
       "      <td>0.016087</td>\n",
       "      <td>-0.003803</td>\n",
       "      <td>-0.053787</td>\n",
       "      <td>0.036724</td>\n",
       "      <td>-0.126251</td>\n",
       "    </tr>\n",
       "    <tr>\n",
       "      <th>number_inpatient</th>\n",
       "      <td>-0.024676</td>\n",
       "      <td>-0.013744</td>\n",
       "      <td>0.015373</td>\n",
       "      <td>-0.045292</td>\n",
       "      <td>0.085009</td>\n",
       "      <td>0.056136</td>\n",
       "      <td>0.092168</td>\n",
       "      <td>0.006893</td>\n",
       "      <td>-0.008802</td>\n",
       "      <td>0.041291</td>\n",
       "      <td>...</td>\n",
       "      <td>-0.020253</td>\n",
       "      <td>-0.019103</td>\n",
       "      <td>0.000654</td>\n",
       "      <td>-0.003707</td>\n",
       "      <td>-0.004759</td>\n",
       "      <td>0.008659</td>\n",
       "      <td>-0.010078</td>\n",
       "      <td>-0.025624</td>\n",
       "      <td>0.033240</td>\n",
       "      <td>-0.235787</td>\n",
       "    </tr>\n",
       "    <tr>\n",
       "      <th>diag_1</th>\n",
       "      <td>0.035166</td>\n",
       "      <td>-0.046754</td>\n",
       "      <td>0.053791</td>\n",
       "      <td>0.023229</td>\n",
       "      <td>0.046886</td>\n",
       "      <td>-0.004264</td>\n",
       "      <td>-0.032925</td>\n",
       "      <td>-0.012126</td>\n",
       "      <td>0.068950</td>\n",
       "      <td>-0.071353</td>\n",
       "      <td>...</td>\n",
       "      <td>0.023401</td>\n",
       "      <td>0.009671</td>\n",
       "      <td>-0.000804</td>\n",
       "      <td>0.001208</td>\n",
       "      <td>0.001998</td>\n",
       "      <td>-0.028102</td>\n",
       "      <td>0.015497</td>\n",
       "      <td>0.038131</td>\n",
       "      <td>-0.034862</td>\n",
       "      <td>0.009120</td>\n",
       "    </tr>\n",
       "    <tr>\n",
       "      <th>diag_2</th>\n",
       "      <td>0.032839</td>\n",
       "      <td>0.004444</td>\n",
       "      <td>0.072295</td>\n",
       "      <td>-0.013787</td>\n",
       "      <td>0.070083</td>\n",
       "      <td>-0.004504</td>\n",
       "      <td>0.097978</td>\n",
       "      <td>-0.000620</td>\n",
       "      <td>0.008260</td>\n",
       "      <td>0.035280</td>\n",
       "      <td>...</td>\n",
       "      <td>-0.001988</td>\n",
       "      <td>-0.011557</td>\n",
       "      <td>0.004116</td>\n",
       "      <td>0.000162</td>\n",
       "      <td>-0.003437</td>\n",
       "      <td>0.000230</td>\n",
       "      <td>-0.002869</td>\n",
       "      <td>0.000815</td>\n",
       "      <td>-0.003971</td>\n",
       "      <td>-0.014829</td>\n",
       "    </tr>\n",
       "    <tr>\n",
       "      <th>diag_3</th>\n",
       "      <td>0.007410</td>\n",
       "      <td>0.010824</td>\n",
       "      <td>0.026820</td>\n",
       "      <td>-0.016249</td>\n",
       "      <td>0.056674</td>\n",
       "      <td>0.007723</td>\n",
       "      <td>0.074926</td>\n",
       "      <td>0.007841</td>\n",
       "      <td>0.016747</td>\n",
       "      <td>0.027664</td>\n",
       "      <td>...</td>\n",
       "      <td>-0.014544</td>\n",
       "      <td>-0.011632</td>\n",
       "      <td>0.002756</td>\n",
       "      <td>-0.003066</td>\n",
       "      <td>0.000082</td>\n",
       "      <td>0.013445</td>\n",
       "      <td>-0.003876</td>\n",
       "      <td>-0.001500</td>\n",
       "      <td>-0.004467</td>\n",
       "      <td>-0.029932</td>\n",
       "    </tr>\n",
       "    <tr>\n",
       "      <th>number_diagnoses</th>\n",
       "      <td>0.059381</td>\n",
       "      <td>-0.002081</td>\n",
       "      <td>0.196086</td>\n",
       "      <td>-0.127056</td>\n",
       "      <td>0.151110</td>\n",
       "      <td>0.105710</td>\n",
       "      <td>0.236647</td>\n",
       "      <td>-0.027460</td>\n",
       "      <td>-0.073098</td>\n",
       "      <td>0.169120</td>\n",
       "      <td>...</td>\n",
       "      <td>-0.001695</td>\n",
       "      <td>-0.011462</td>\n",
       "      <td>0.005965</td>\n",
       "      <td>-0.001046</td>\n",
       "      <td>-0.011991</td>\n",
       "      <td>0.031771</td>\n",
       "      <td>-0.009614</td>\n",
       "      <td>-0.056030</td>\n",
       "      <td>0.024920</td>\n",
       "      <td>-0.106688</td>\n",
       "    </tr>\n",
       "    <tr>\n",
       "      <th>A1Cresult</th>\n",
       "      <td>-0.007620</td>\n",
       "      <td>-0.020459</td>\n",
       "      <td>0.079911</td>\n",
       "      <td>0.014595</td>\n",
       "      <td>0.021773</td>\n",
       "      <td>-0.014781</td>\n",
       "      <td>-0.020929</td>\n",
       "      <td>-0.007103</td>\n",
       "      <td>0.024823</td>\n",
       "      <td>-0.106790</td>\n",
       "      <td>...</td>\n",
       "      <td>-0.000659</td>\n",
       "      <td>-0.012379</td>\n",
       "      <td>-0.007564</td>\n",
       "      <td>-0.003730</td>\n",
       "      <td>-0.001799</td>\n",
       "      <td>-0.039240</td>\n",
       "      <td>0.003401</td>\n",
       "      <td>0.088639</td>\n",
       "      <td>-0.076598</td>\n",
       "      <td>0.000448</td>\n",
       "    </tr>\n",
       "    <tr>\n",
       "      <th>metformin</th>\n",
       "      <td>0.017356</td>\n",
       "      <td>0.000721</td>\n",
       "      <td>-0.073275</td>\n",
       "      <td>0.027210</td>\n",
       "      <td>-0.026265</td>\n",
       "      <td>-0.035474</td>\n",
       "      <td>-0.005095</td>\n",
       "      <td>-0.013753</td>\n",
       "      <td>0.026611</td>\n",
       "      <td>-0.044168</td>\n",
       "      <td>...</td>\n",
       "      <td>0.052726</td>\n",
       "      <td>0.087167</td>\n",
       "      <td>0.008398</td>\n",
       "      <td>0.005381</td>\n",
       "      <td>0.005267</td>\n",
       "      <td>0.001510</td>\n",
       "      <td>-0.021553</td>\n",
       "      <td>-0.296188</td>\n",
       "      <td>0.254171</td>\n",
       "      <td>0.030358</td>\n",
       "    </tr>\n",
       "    <tr>\n",
       "      <th>repaglinide</th>\n",
       "      <td>0.021476</td>\n",
       "      <td>-0.005808</td>\n",
       "      <td>0.046118</td>\n",
       "      <td>0.015565</td>\n",
       "      <td>0.010782</td>\n",
       "      <td>0.007086</td>\n",
       "      <td>0.031475</td>\n",
       "      <td>0.012746</td>\n",
       "      <td>-0.049308</td>\n",
       "      <td>0.013940</td>\n",
       "      <td>...</td>\n",
       "      <td>0.015139</td>\n",
       "      <td>0.012601</td>\n",
       "      <td>0.011300</td>\n",
       "      <td>0.014982</td>\n",
       "      <td>-0.002284</td>\n",
       "      <td>-0.007082</td>\n",
       "      <td>-0.004737</td>\n",
       "      <td>-0.067859</td>\n",
       "      <td>0.063758</td>\n",
       "      <td>-0.021119</td>\n",
       "    </tr>\n",
       "    <tr>\n",
       "      <th>nateglinide</th>\n",
       "      <td>-0.008908</td>\n",
       "      <td>-0.005445</td>\n",
       "      <td>0.015220</td>\n",
       "      <td>-0.001071</td>\n",
       "      <td>-0.008713</td>\n",
       "      <td>-0.013683</td>\n",
       "      <td>0.004722</td>\n",
       "      <td>0.006813</td>\n",
       "      <td>-0.006245</td>\n",
       "      <td>-0.005691</td>\n",
       "      <td>...</td>\n",
       "      <td>0.022357</td>\n",
       "      <td>0.013973</td>\n",
       "      <td>-0.000047</td>\n",
       "      <td>0.011126</td>\n",
       "      <td>-0.001582</td>\n",
       "      <td>-0.000133</td>\n",
       "      <td>-0.006629</td>\n",
       "      <td>-0.051987</td>\n",
       "      <td>0.044152</td>\n",
       "      <td>-0.003913</td>\n",
       "    </tr>\n",
       "    <tr>\n",
       "      <th>chlorpropamide</th>\n",
       "      <td>0.008026</td>\n",
       "      <td>0.003500</td>\n",
       "      <td>0.013720</td>\n",
       "      <td>0.009009</td>\n",
       "      <td>0.011215</td>\n",
       "      <td>-0.003418</td>\n",
       "      <td>0.004890</td>\n",
       "      <td>0.005195</td>\n",
       "      <td>0.002036</td>\n",
       "      <td>-0.001143</td>\n",
       "      <td>...</td>\n",
       "      <td>-0.006354</td>\n",
       "      <td>-0.001478</td>\n",
       "      <td>-0.001535</td>\n",
       "      <td>-0.000405</td>\n",
       "      <td>-0.000556</td>\n",
       "      <td>-0.009725</td>\n",
       "      <td>-0.002334</td>\n",
       "      <td>0.007326</td>\n",
       "      <td>0.015524</td>\n",
       "      <td>0.001154</td>\n",
       "    </tr>\n",
       "    <tr>\n",
       "      <th>glimepiride</th>\n",
       "      <td>0.015772</td>\n",
       "      <td>0.000844</td>\n",
       "      <td>0.028788</td>\n",
       "      <td>0.016181</td>\n",
       "      <td>-0.021355</td>\n",
       "      <td>-0.024015</td>\n",
       "      <td>0.009716</td>\n",
       "      <td>0.008432</td>\n",
       "      <td>-0.028313</td>\n",
       "      <td>-0.003770</td>\n",
       "      <td>...</td>\n",
       "      <td>0.041096</td>\n",
       "      <td>0.035799</td>\n",
       "      <td>0.018497</td>\n",
       "      <td>0.017641</td>\n",
       "      <td>-0.004200</td>\n",
       "      <td>0.011645</td>\n",
       "      <td>-0.010103</td>\n",
       "      <td>-0.120888</td>\n",
       "      <td>0.117214</td>\n",
       "      <td>-0.000612</td>\n",
       "    </tr>\n",
       "    <tr>\n",
       "      <th>glipizide</th>\n",
       "      <td>0.017773</td>\n",
       "      <td>0.026715</td>\n",
       "      <td>0.039472</td>\n",
       "      <td>0.008817</td>\n",
       "      <td>-0.008663</td>\n",
       "      <td>0.005787</td>\n",
       "      <td>0.007021</td>\n",
       "      <td>-0.004149</td>\n",
       "      <td>-0.013452</td>\n",
       "      <td>0.003228</td>\n",
       "      <td>...</td>\n",
       "      <td>0.043062</td>\n",
       "      <td>0.036501</td>\n",
       "      <td>0.026378</td>\n",
       "      <td>0.001361</td>\n",
       "      <td>-0.003734</td>\n",
       "      <td>0.001547</td>\n",
       "      <td>-0.025733</td>\n",
       "      <td>-0.164246</td>\n",
       "      <td>0.187866</td>\n",
       "      <td>-0.013364</td>\n",
       "    </tr>\n",
       "    <tr>\n",
       "      <th>glyburide</th>\n",
       "      <td>0.015436</td>\n",
       "      <td>0.030629</td>\n",
       "      <td>0.060629</td>\n",
       "      <td>0.004024</td>\n",
       "      <td>0.026517</td>\n",
       "      <td>-0.005368</td>\n",
       "      <td>0.012765</td>\n",
       "      <td>-0.004445</td>\n",
       "      <td>0.005245</td>\n",
       "      <td>-0.011332</td>\n",
       "      <td>...</td>\n",
       "      <td>0.019237</td>\n",
       "      <td>0.029854</td>\n",
       "      <td>0.010908</td>\n",
       "      <td>-0.000932</td>\n",
       "      <td>-0.005981</td>\n",
       "      <td>-0.017994</td>\n",
       "      <td>-0.008480</td>\n",
       "      <td>-0.141520</td>\n",
       "      <td>0.166931</td>\n",
       "      <td>0.005855</td>\n",
       "    </tr>\n",
       "    <tr>\n",
       "      <th>pioglitazone</th>\n",
       "      <td>0.023288</td>\n",
       "      <td>0.004841</td>\n",
       "      <td>0.002030</td>\n",
       "      <td>0.021699</td>\n",
       "      <td>-0.016171</td>\n",
       "      <td>-0.015952</td>\n",
       "      <td>0.001977</td>\n",
       "      <td>-0.014363</td>\n",
       "      <td>0.006228</td>\n",
       "      <td>-0.016153</td>\n",
       "      <td>...</td>\n",
       "      <td>1.000000</td>\n",
       "      <td>-0.060954</td>\n",
       "      <td>0.014492</td>\n",
       "      <td>0.004003</td>\n",
       "      <td>-0.001408</td>\n",
       "      <td>-0.001623</td>\n",
       "      <td>0.026781</td>\n",
       "      <td>-0.192980</td>\n",
       "      <td>0.147308</td>\n",
       "      <td>-0.007203</td>\n",
       "    </tr>\n",
       "    <tr>\n",
       "      <th>rosiglitazone</th>\n",
       "      <td>0.004789</td>\n",
       "      <td>0.010222</td>\n",
       "      <td>-0.005564</td>\n",
       "      <td>0.028802</td>\n",
       "      <td>-0.007550</td>\n",
       "      <td>-0.018717</td>\n",
       "      <td>0.005833</td>\n",
       "      <td>-0.008477</td>\n",
       "      <td>-0.001358</td>\n",
       "      <td>-0.010205</td>\n",
       "      <td>...</td>\n",
       "      <td>-0.060954</td>\n",
       "      <td>1.000000</td>\n",
       "      <td>0.007105</td>\n",
       "      <td>0.000612</td>\n",
       "      <td>0.003352</td>\n",
       "      <td>0.008029</td>\n",
       "      <td>0.005784</td>\n",
       "      <td>-0.188317</td>\n",
       "      <td>0.137287</td>\n",
       "      <td>-0.010200</td>\n",
       "    </tr>\n",
       "    <tr>\n",
       "      <th>acarbose</th>\n",
       "      <td>0.015603</td>\n",
       "      <td>0.010895</td>\n",
       "      <td>0.004731</td>\n",
       "      <td>0.006140</td>\n",
       "      <td>0.003811</td>\n",
       "      <td>0.000568</td>\n",
       "      <td>0.004820</td>\n",
       "      <td>-0.010618</td>\n",
       "      <td>-0.005731</td>\n",
       "      <td>-0.000667</td>\n",
       "      <td>...</td>\n",
       "      <td>0.014492</td>\n",
       "      <td>0.007105</td>\n",
       "      <td>1.000000</td>\n",
       "      <td>0.008488</td>\n",
       "      <td>-0.001058</td>\n",
       "      <td>-0.004966</td>\n",
       "      <td>0.004186</td>\n",
       "      <td>-0.045030</td>\n",
       "      <td>0.029524</td>\n",
       "      <td>-0.011029</td>\n",
       "    </tr>\n",
       "    <tr>\n",
       "      <th>miglitol</th>\n",
       "      <td>-0.001614</td>\n",
       "      <td>0.001075</td>\n",
       "      <td>0.007103</td>\n",
       "      <td>0.003826</td>\n",
       "      <td>0.007457</td>\n",
       "      <td>0.002573</td>\n",
       "      <td>0.003576</td>\n",
       "      <td>0.004533</td>\n",
       "      <td>-0.013520</td>\n",
       "      <td>-0.002918</td>\n",
       "      <td>...</td>\n",
       "      <td>0.004003</td>\n",
       "      <td>0.000612</td>\n",
       "      <td>0.008488</td>\n",
       "      <td>1.000000</td>\n",
       "      <td>-0.000279</td>\n",
       "      <td>-0.003005</td>\n",
       "      <td>-0.001170</td>\n",
       "      <td>-0.009249</td>\n",
       "      <td>0.007783</td>\n",
       "      <td>0.000459</td>\n",
       "    </tr>\n",
       "    <tr>\n",
       "      <th>tolazamide</th>\n",
       "      <td>-0.000654</td>\n",
       "      <td>0.007016</td>\n",
       "      <td>0.005014</td>\n",
       "      <td>0.005353</td>\n",
       "      <td>0.003790</td>\n",
       "      <td>0.002035</td>\n",
       "      <td>-0.002711</td>\n",
       "      <td>0.001047</td>\n",
       "      <td>0.000681</td>\n",
       "      <td>-0.000951</td>\n",
       "      <td>...</td>\n",
       "      <td>-0.001408</td>\n",
       "      <td>0.003352</td>\n",
       "      <td>-0.001058</td>\n",
       "      <td>-0.000279</td>\n",
       "      <td>1.000000</td>\n",
       "      <td>-0.004585</td>\n",
       "      <td>-0.001609</td>\n",
       "      <td>-0.001998</td>\n",
       "      <td>0.010700</td>\n",
       "      <td>0.004904</td>\n",
       "    </tr>\n",
       "    <tr>\n",
       "      <th>insulin</th>\n",
       "      <td>-0.021691</td>\n",
       "      <td>0.003066</td>\n",
       "      <td>-0.016867</td>\n",
       "      <td>-0.016579</td>\n",
       "      <td>-0.010597</td>\n",
       "      <td>-0.009677</td>\n",
       "      <td>0.046310</td>\n",
       "      <td>0.008776</td>\n",
       "      <td>-0.000450</td>\n",
       "      <td>0.034590</td>\n",
       "      <td>...</td>\n",
       "      <td>-0.001623</td>\n",
       "      <td>0.008029</td>\n",
       "      <td>-0.004966</td>\n",
       "      <td>-0.003005</td>\n",
       "      <td>-0.004585</td>\n",
       "      <td>1.000000</td>\n",
       "      <td>0.000473</td>\n",
       "      <td>-0.132360</td>\n",
       "      <td>0.298956</td>\n",
       "      <td>-0.001222</td>\n",
       "    </tr>\n",
       "    <tr>\n",
       "      <th>glyburide-metformin</th>\n",
       "      <td>0.008334</td>\n",
       "      <td>0.004060</td>\n",
       "      <td>-0.005654</td>\n",
       "      <td>0.010181</td>\n",
       "      <td>-0.006345</td>\n",
       "      <td>-0.018646</td>\n",
       "      <td>-0.003493</td>\n",
       "      <td>0.020316</td>\n",
       "      <td>-0.003765</td>\n",
       "      <td>-0.008161</td>\n",
       "      <td>...</td>\n",
       "      <td>0.026781</td>\n",
       "      <td>0.005784</td>\n",
       "      <td>0.004186</td>\n",
       "      <td>-0.001170</td>\n",
       "      <td>-0.001609</td>\n",
       "      <td>0.000473</td>\n",
       "      <td>1.000000</td>\n",
       "      <td>-0.041422</td>\n",
       "      <td>0.044900</td>\n",
       "      <td>-0.002723</td>\n",
       "    </tr>\n",
       "    <tr>\n",
       "      <th>change</th>\n",
       "      <td>-0.013585</td>\n",
       "      <td>-0.014858</td>\n",
       "      <td>0.042424</td>\n",
       "      <td>-0.021045</td>\n",
       "      <td>-0.011166</td>\n",
       "      <td>-0.008114</td>\n",
       "      <td>-0.118235</td>\n",
       "      <td>-0.044804</td>\n",
       "      <td>0.030137</td>\n",
       "      <td>-0.065964</td>\n",
       "      <td>...</td>\n",
       "      <td>-0.192980</td>\n",
       "      <td>-0.188317</td>\n",
       "      <td>-0.045030</td>\n",
       "      <td>-0.009249</td>\n",
       "      <td>-0.001998</td>\n",
       "      <td>-0.132360</td>\n",
       "      <td>-0.041422</td>\n",
       "      <td>1.000000</td>\n",
       "      <td>-0.506370</td>\n",
       "      <td>0.044955</td>\n",
       "    </tr>\n",
       "    <tr>\n",
       "      <th>diabetesMed</th>\n",
       "      <td>0.002383</td>\n",
       "      <td>0.015932</td>\n",
       "      <td>-0.021879</td>\n",
       "      <td>0.008185</td>\n",
       "      <td>-0.014680</td>\n",
       "      <td>0.000880</td>\n",
       "      <td>0.071568</td>\n",
       "      <td>0.038349</td>\n",
       "      <td>-0.019032</td>\n",
       "      <td>0.037083</td>\n",
       "      <td>...</td>\n",
       "      <td>0.147308</td>\n",
       "      <td>0.137287</td>\n",
       "      <td>0.029524</td>\n",
       "      <td>0.007783</td>\n",
       "      <td>0.010700</td>\n",
       "      <td>0.298956</td>\n",
       "      <td>0.044900</td>\n",
       "      <td>-0.506370</td>\n",
       "      <td>1.000000</td>\n",
       "      <td>-0.060396</td>\n",
       "    </tr>\n",
       "    <tr>\n",
       "      <th>readmitted</th>\n",
       "      <td>0.002185</td>\n",
       "      <td>0.016240</td>\n",
       "      <td>-0.031042</td>\n",
       "      <td>0.022614</td>\n",
       "      <td>-0.029592</td>\n",
       "      <td>-0.054446</td>\n",
       "      <td>-0.066664</td>\n",
       "      <td>-0.014900</td>\n",
       "      <td>0.031409</td>\n",
       "      <td>-0.040907</td>\n",
       "      <td>...</td>\n",
       "      <td>-0.007203</td>\n",
       "      <td>-0.010200</td>\n",
       "      <td>-0.011029</td>\n",
       "      <td>0.000459</td>\n",
       "      <td>0.004904</td>\n",
       "      <td>-0.001222</td>\n",
       "      <td>-0.002723</td>\n",
       "      <td>0.044955</td>\n",
       "      <td>-0.060396</td>\n",
       "      <td>1.000000</td>\n",
       "    </tr>\n",
       "  </tbody>\n",
       "</table>\n",
       "<p>37 rows × 37 columns</p>\n",
       "</div>"
      ],
      "text/plain": [
       "                              race    gender       age  admission_type_id  \\\n",
       "race                      1.000000  0.064888  0.123114           0.109793   \n",
       "gender                    0.064888  1.000000 -0.066229           0.017608   \n",
       "age                       0.123114 -0.066229  1.000000          -0.022328   \n",
       "admission_type_id         0.109793  0.017608 -0.022328           1.000000   \n",
       "discharge_disposition_id  0.020469 -0.051628  0.253296           0.021230   \n",
       "admission_source_id      -0.000555 -0.006210  0.048851          -0.382671   \n",
       "time_in_hospital         -0.018946 -0.038584  0.119799          -0.015236   \n",
       "payer_code                0.008848 -0.010021  0.027187           0.053572   \n",
       "medical_specialty        -0.043728 -0.010294 -0.054190           0.064630   \n",
       "num_lab_procedures       -0.013067 -0.008020  0.027635          -0.224130   \n",
       "num_procedures            0.013583  0.048959 -0.058117           0.216832   \n",
       "num_medications           0.028204 -0.039134  0.026721           0.086519   \n",
       "number_outpatient         0.050618 -0.012809  0.022967           0.029509   \n",
       "number_emergency         -0.039170 -0.031165 -0.057150          -0.033208   \n",
       "number_inpatient         -0.024676 -0.013744  0.015373          -0.045292   \n",
       "diag_1                    0.035166 -0.046754  0.053791           0.023229   \n",
       "diag_2                    0.032839  0.004444  0.072295          -0.013787   \n",
       "diag_3                    0.007410  0.010824  0.026820          -0.016249   \n",
       "number_diagnoses          0.059381 -0.002081  0.196086          -0.127056   \n",
       "A1Cresult                -0.007620 -0.020459  0.079911           0.014595   \n",
       "metformin                 0.017356  0.000721 -0.073275           0.027210   \n",
       "repaglinide               0.021476 -0.005808  0.046118           0.015565   \n",
       "nateglinide              -0.008908 -0.005445  0.015220          -0.001071   \n",
       "chlorpropamide            0.008026  0.003500  0.013720           0.009009   \n",
       "glimepiride               0.015772  0.000844  0.028788           0.016181   \n",
       "glipizide                 0.017773  0.026715  0.039472           0.008817   \n",
       "glyburide                 0.015436  0.030629  0.060629           0.004024   \n",
       "pioglitazone              0.023288  0.004841  0.002030           0.021699   \n",
       "rosiglitazone             0.004789  0.010222 -0.005564           0.028802   \n",
       "acarbose                  0.015603  0.010895  0.004731           0.006140   \n",
       "miglitol                 -0.001614  0.001075  0.007103           0.003826   \n",
       "tolazamide               -0.000654  0.007016  0.005014           0.005353   \n",
       "insulin                  -0.021691  0.003066 -0.016867          -0.016579   \n",
       "glyburide-metformin       0.008334  0.004060 -0.005654           0.010181   \n",
       "change                   -0.013585 -0.014858  0.042424          -0.021045   \n",
       "diabetesMed               0.002383  0.015932 -0.021879           0.008185   \n",
       "readmitted                0.002185  0.016240 -0.031042           0.022614   \n",
       "\n",
       "                          discharge_disposition_id  admission_source_id  \\\n",
       "race                                      0.020469            -0.000555   \n",
       "gender                                   -0.051628            -0.006210   \n",
       "age                                       0.253296             0.048851   \n",
       "admission_type_id                         0.021230            -0.382671   \n",
       "discharge_disposition_id                  1.000000             0.041549   \n",
       "admission_source_id                       0.041549             1.000000   \n",
       "time_in_hospital                          0.275510             0.003041   \n",
       "payer_code                                0.013699             0.004640   \n",
       "medical_specialty                         0.040380            -0.205618   \n",
       "num_lab_procedures                        0.059316             0.135564   \n",
       "num_procedures                            0.013391            -0.204772   \n",
       "num_medications                           0.170789            -0.063131   \n",
       "number_outpatient                         0.033117             0.024304   \n",
       "number_emergency                          0.007064             0.104007   \n",
       "number_inpatient                          0.085009             0.056136   \n",
       "diag_1                                    0.046886            -0.004264   \n",
       "diag_2                                    0.070083            -0.004504   \n",
       "diag_3                                    0.056674             0.007723   \n",
       "number_diagnoses                          0.151110             0.105710   \n",
       "A1Cresult                                 0.021773            -0.014781   \n",
       "metformin                                -0.026265            -0.035474   \n",
       "repaglinide                               0.010782             0.007086   \n",
       "nateglinide                              -0.008713            -0.013683   \n",
       "chlorpropamide                            0.011215            -0.003418   \n",
       "glimepiride                              -0.021355            -0.024015   \n",
       "glipizide                                -0.008663             0.005787   \n",
       "glyburide                                 0.026517            -0.005368   \n",
       "pioglitazone                             -0.016171            -0.015952   \n",
       "rosiglitazone                            -0.007550            -0.018717   \n",
       "acarbose                                  0.003811             0.000568   \n",
       "miglitol                                  0.007457             0.002573   \n",
       "tolazamide                                0.003790             0.002035   \n",
       "insulin                                  -0.010597            -0.009677   \n",
       "glyburide-metformin                      -0.006345            -0.018646   \n",
       "change                                   -0.011166            -0.008114   \n",
       "diabetesMed                              -0.014680             0.000880   \n",
       "readmitted                               -0.029592            -0.054446   \n",
       "\n",
       "                          time_in_hospital  payer_code  medical_specialty  \\\n",
       "race                             -0.018946    0.008848          -0.043728   \n",
       "gender                           -0.038584   -0.010021          -0.010294   \n",
       "age                               0.119799    0.027187          -0.054190   \n",
       "admission_type_id                -0.015236    0.053572           0.064630   \n",
       "discharge_disposition_id          0.275510    0.013699           0.040380   \n",
       "admission_source_id               0.003041    0.004640          -0.205618   \n",
       "time_in_hospital                  1.000000    0.022404           0.046353   \n",
       "payer_code                        0.022404    1.000000          -0.066835   \n",
       "medical_specialty                 0.046353   -0.066835           1.000000   \n",
       "num_lab_procedures                0.336792    0.007839          -0.070506   \n",
       "num_procedures                    0.187216   -0.019333           0.062936   \n",
       "num_medications                   0.465094   -0.026198           0.086150   \n",
       "number_outpatient                -0.013302   -0.070476           0.028499   \n",
       "number_emergency                 -0.000934   -0.013170          -0.036769   \n",
       "number_inpatient                  0.092168    0.006893          -0.008802   \n",
       "diag_1                           -0.032925   -0.012126           0.068950   \n",
       "diag_2                            0.097978   -0.000620           0.008260   \n",
       "diag_3                            0.074926    0.007841           0.016747   \n",
       "number_diagnoses                  0.236647   -0.027460          -0.073098   \n",
       "A1Cresult                        -0.020929   -0.007103           0.024823   \n",
       "metformin                        -0.005095   -0.013753           0.026611   \n",
       "repaglinide                       0.031475    0.012746          -0.049308   \n",
       "nateglinide                       0.004722    0.006813          -0.006245   \n",
       "chlorpropamide                    0.004890    0.005195           0.002036   \n",
       "glimepiride                       0.009716    0.008432          -0.028313   \n",
       "glipizide                         0.007021   -0.004149          -0.013452   \n",
       "glyburide                         0.012765   -0.004445           0.005245   \n",
       "pioglitazone                      0.001977   -0.014363           0.006228   \n",
       "rosiglitazone                     0.005833   -0.008477          -0.001358   \n",
       "acarbose                          0.004820   -0.010618          -0.005731   \n",
       "miglitol                          0.003576    0.004533          -0.013520   \n",
       "tolazamide                       -0.002711    0.001047           0.000681   \n",
       "insulin                           0.046310    0.008776          -0.000450   \n",
       "glyburide-metformin              -0.003493    0.020316          -0.003765   \n",
       "change                           -0.118235   -0.044804           0.030137   \n",
       "diabetesMed                       0.071568    0.038349          -0.019032   \n",
       "readmitted                       -0.066664   -0.014900           0.031409   \n",
       "\n",
       "                          num_lab_procedures  ...  pioglitazone  \\\n",
       "race                               -0.013067  ...      0.023288   \n",
       "gender                             -0.008020  ...      0.004841   \n",
       "age                                 0.027635  ...      0.002030   \n",
       "admission_type_id                  -0.224130  ...      0.021699   \n",
       "discharge_disposition_id            0.059316  ...     -0.016171   \n",
       "admission_source_id                 0.135564  ...     -0.015952   \n",
       "time_in_hospital                    0.336792  ...      0.001977   \n",
       "payer_code                          0.007839  ...     -0.014363   \n",
       "medical_specialty                  -0.070506  ...      0.006228   \n",
       "num_lab_procedures                  1.000000  ...     -0.016153   \n",
       "num_procedures                      0.022887  ...      0.013078   \n",
       "num_medications                     0.251634  ...      0.069532   \n",
       "number_outpatient                  -0.023545  ...      0.016379   \n",
       "number_emergency                    0.005966  ...      0.011105   \n",
       "number_inpatient                    0.041291  ...     -0.020253   \n",
       "diag_1                             -0.071353  ...      0.023401   \n",
       "diag_2                              0.035280  ...     -0.001988   \n",
       "diag_3                              0.027664  ...     -0.014544   \n",
       "number_diagnoses                    0.169120  ...     -0.001695   \n",
       "A1Cresult                          -0.106790  ...     -0.000659   \n",
       "metformin                          -0.044168  ...      0.052726   \n",
       "repaglinide                         0.013940  ...      0.015139   \n",
       "nateglinide                        -0.005691  ...      0.022357   \n",
       "chlorpropamide                     -0.001143  ...     -0.006354   \n",
       "glimepiride                        -0.003770  ...      0.041096   \n",
       "glipizide                           0.003228  ...      0.043062   \n",
       "glyburide                          -0.011332  ...      0.019237   \n",
       "pioglitazone                       -0.016153  ...      1.000000   \n",
       "rosiglitazone                      -0.010205  ...     -0.060954   \n",
       "acarbose                           -0.000667  ...      0.014492   \n",
       "miglitol                           -0.002918  ...      0.004003   \n",
       "tolazamide                         -0.000951  ...     -0.001408   \n",
       "insulin                             0.034590  ...     -0.001623   \n",
       "glyburide-metformin                -0.008161  ...      0.026781   \n",
       "change                             -0.065964  ...     -0.192980   \n",
       "diabetesMed                         0.037083  ...      0.147308   \n",
       "readmitted                         -0.040907  ...     -0.007203   \n",
       "\n",
       "                          rosiglitazone  acarbose  miglitol  tolazamide  \\\n",
       "race                           0.004789  0.015603 -0.001614   -0.000654   \n",
       "gender                         0.010222  0.010895  0.001075    0.007016   \n",
       "age                           -0.005564  0.004731  0.007103    0.005014   \n",
       "admission_type_id              0.028802  0.006140  0.003826    0.005353   \n",
       "discharge_disposition_id      -0.007550  0.003811  0.007457    0.003790   \n",
       "admission_source_id           -0.018717  0.000568  0.002573    0.002035   \n",
       "time_in_hospital               0.005833  0.004820  0.003576   -0.002711   \n",
       "payer_code                    -0.008477 -0.010618  0.004533    0.001047   \n",
       "medical_specialty             -0.001358 -0.005731 -0.013520    0.000681   \n",
       "num_lab_procedures            -0.010205 -0.000667 -0.002918   -0.000951   \n",
       "num_procedures                 0.013118 -0.001965  0.000838    0.003032   \n",
       "num_medications                0.055682  0.019224  0.003079   -0.003490   \n",
       "number_outpatient              0.003074  0.018018 -0.006569   -0.007408   \n",
       "number_emergency               0.002904 -0.000803  0.004269   -0.003873   \n",
       "number_inpatient              -0.019103  0.000654 -0.003707   -0.004759   \n",
       "diag_1                         0.009671 -0.000804  0.001208    0.001998   \n",
       "diag_2                        -0.011557  0.004116  0.000162   -0.003437   \n",
       "diag_3                        -0.011632  0.002756 -0.003066    0.000082   \n",
       "number_diagnoses              -0.011462  0.005965 -0.001046   -0.011991   \n",
       "A1Cresult                     -0.012379 -0.007564 -0.003730   -0.001799   \n",
       "metformin                      0.087167  0.008398  0.005381    0.005267   \n",
       "repaglinide                    0.012601  0.011300  0.014982   -0.002284   \n",
       "nateglinide                    0.013973 -0.000047  0.011126   -0.001582   \n",
       "chlorpropamide                -0.001478 -0.001535 -0.000405   -0.000556   \n",
       "glimepiride                    0.035799  0.018497  0.017641   -0.004200   \n",
       "glipizide                      0.036501  0.026378  0.001361   -0.003734   \n",
       "glyburide                      0.029854  0.010908 -0.000932   -0.005981   \n",
       "pioglitazone                  -0.060954  0.014492  0.004003   -0.001408   \n",
       "rosiglitazone                  1.000000  0.007105  0.000612    0.003352   \n",
       "acarbose                       0.007105  1.000000  0.008488   -0.001058   \n",
       "miglitol                       0.000612  0.008488  1.000000   -0.000279   \n",
       "tolazamide                     0.003352 -0.001058 -0.000279    1.000000   \n",
       "insulin                        0.008029 -0.004966 -0.003005   -0.004585   \n",
       "glyburide-metformin            0.005784  0.004186 -0.001170   -0.001609   \n",
       "change                        -0.188317 -0.045030 -0.009249   -0.001998   \n",
       "diabetesMed                    0.137287  0.029524  0.007783    0.010700   \n",
       "readmitted                    -0.010200 -0.011029  0.000459    0.004904   \n",
       "\n",
       "                           insulin  glyburide-metformin    change  \\\n",
       "race                     -0.021691             0.008334 -0.013585   \n",
       "gender                    0.003066             0.004060 -0.014858   \n",
       "age                      -0.016867            -0.005654  0.042424   \n",
       "admission_type_id        -0.016579             0.010181 -0.021045   \n",
       "discharge_disposition_id -0.010597            -0.006345 -0.011166   \n",
       "admission_source_id      -0.009677            -0.018646 -0.008114   \n",
       "time_in_hospital          0.046310            -0.003493 -0.118235   \n",
       "payer_code                0.008776             0.020316 -0.044804   \n",
       "medical_specialty        -0.000450            -0.003765  0.030137   \n",
       "num_lab_procedures        0.034590            -0.008161 -0.065964   \n",
       "num_procedures            0.002275            -0.000540  0.004257   \n",
       "num_medications           0.073413             0.008596 -0.253612   \n",
       "number_outpatient         0.003110            -0.004589 -0.031070   \n",
       "number_emergency          0.016087            -0.003803 -0.053787   \n",
       "number_inpatient          0.008659            -0.010078 -0.025624   \n",
       "diag_1                   -0.028102             0.015497  0.038131   \n",
       "diag_2                    0.000230            -0.002869  0.000815   \n",
       "diag_3                    0.013445            -0.003876 -0.001500   \n",
       "number_diagnoses          0.031771            -0.009614 -0.056030   \n",
       "A1Cresult                -0.039240             0.003401  0.088639   \n",
       "metformin                 0.001510            -0.021553 -0.296188   \n",
       "repaglinide              -0.007082            -0.004737 -0.067859   \n",
       "nateglinide              -0.000133            -0.006629 -0.051987   \n",
       "chlorpropamide           -0.009725            -0.002334  0.007326   \n",
       "glimepiride               0.011645            -0.010103 -0.120888   \n",
       "glipizide                 0.001547            -0.025733 -0.164246   \n",
       "glyburide                -0.017994            -0.008480 -0.141520   \n",
       "pioglitazone             -0.001623             0.026781 -0.192980   \n",
       "rosiglitazone             0.008029             0.005784 -0.188317   \n",
       "acarbose                 -0.004966             0.004186 -0.045030   \n",
       "miglitol                 -0.003005            -0.001170 -0.009249   \n",
       "tolazamide               -0.004585            -0.001609 -0.001998   \n",
       "insulin                   1.000000             0.000473 -0.132360   \n",
       "glyburide-metformin       0.000473             1.000000 -0.041422   \n",
       "change                   -0.132360            -0.041422  1.000000   \n",
       "diabetesMed               0.298956             0.044900 -0.506370   \n",
       "readmitted               -0.001222            -0.002723  0.044955   \n",
       "\n",
       "                          diabetesMed  readmitted  \n",
       "race                         0.002383    0.002185  \n",
       "gender                       0.015932    0.016240  \n",
       "age                         -0.021879   -0.031042  \n",
       "admission_type_id            0.008185    0.022614  \n",
       "discharge_disposition_id    -0.014680   -0.029592  \n",
       "admission_source_id          0.000880   -0.054446  \n",
       "time_in_hospital             0.071568   -0.066664  \n",
       "payer_code                   0.038349   -0.014900  \n",
       "medical_specialty           -0.019032    0.031409  \n",
       "num_lab_procedures           0.037083   -0.040907  \n",
       "num_procedures              -0.017185    0.041505  \n",
       "num_medications              0.198868   -0.073346  \n",
       "number_outpatient            0.019535   -0.104465  \n",
       "number_emergency             0.036724   -0.126251  \n",
       "number_inpatient             0.033240   -0.235787  \n",
       "diag_1                      -0.034862    0.009120  \n",
       "diag_2                      -0.003971   -0.014829  \n",
       "diag_3                      -0.004467   -0.029932  \n",
       "number_diagnoses             0.024920   -0.106688  \n",
       "A1Cresult                   -0.076598    0.000448  \n",
       "metformin                    0.254171    0.030358  \n",
       "repaglinide                  0.063758   -0.021119  \n",
       "nateglinide                  0.044152   -0.003913  \n",
       "chlorpropamide               0.015524    0.001154  \n",
       "glimepiride                  0.117214   -0.000612  \n",
       "glipizide                    0.187866   -0.013364  \n",
       "glyburide                    0.166931    0.005855  \n",
       "pioglitazone                 0.147308   -0.007203  \n",
       "rosiglitazone                0.137287   -0.010200  \n",
       "acarbose                     0.029524   -0.011029  \n",
       "miglitol                     0.007783    0.000459  \n",
       "tolazamide                   0.010700    0.004904  \n",
       "insulin                      0.298956   -0.001222  \n",
       "glyburide-metformin          0.044900   -0.002723  \n",
       "change                      -0.506370    0.044955  \n",
       "diabetesMed                  1.000000   -0.060396  \n",
       "readmitted                  -0.060396    1.000000  \n",
       "\n",
       "[37 rows x 37 columns]"
      ]
     },
     "execution_count": 427,
     "metadata": {},
     "output_type": "execute_result"
    }
   ],
   "source": [
    "diabet.corr(method='spearman')"
   ]
  },
  {
   "cell_type": "markdown",
   "metadata": {},
   "source": [
    "Так как корреляции не наблюдается, то можем приступить к __обучению моделей__."
   ]
  },
  {
   "cell_type": "markdown",
   "metadata": {},
   "source": [
    "## Обучение и анализ моделей"
   ]
  },
  {
   "cell_type": "markdown",
   "metadata": {},
   "source": [
    "Теперь разобьём датасет на два набора тренировочный и тестовый"
   ]
  },
  {
   "cell_type": "code",
   "execution_count": 428,
   "metadata": {},
   "outputs": [],
   "source": [
    "from sklearn.model_selection import train_test_split\n",
    "from sklearn.preprocessing import StandardScaler\n",
    "from sklearn import preprocessing\n",
    "\n",
    "Y = diabet[\"readmitted\"]\n",
    "X = diabet.iloc[:,:-1]\n",
    "\n",
    "#X = preprocessing.normalize(X)\n",
    "#Y = preprocessing.normalize(Y)\n",
    "X = preprocessing.scale(X)\n",
    "\n",
    "X_train, X_test, Y_train, Y_test = train_test_split(X, Y, test_size=0.2, random_state=42)"
   ]
  },
  {
   "cell_type": "code",
   "execution_count": 429,
   "metadata": {},
   "outputs": [],
   "source": [
    "from sklearn.metrics import plot_confusion_matrix\n",
    "from sklearn.model_selection import cross_val_predict\n",
    "from sklearn.metrics import recall_score, precision_score\n",
    "\n",
    "def calc_precision_recall(clf, X, y):\n",
    "    y_pred = cross_val_predict(clf, X, y, cv=3)\n",
    "\n",
    "    return {\n",
    "        \"precision\": precision_score(y, y_pred, average='weighted'),\n",
    "        \"recall\": recall_score(y, y_pred, average='weighted'),\n",
    "    }\n",
    "\n",
    "def confusion_matrix(clf, X_train, y_train, X_test, y_test):\n",
    "    clf.fit(X_train, y_train)\n",
    "    plot_confusion_matrix(clf, X_test, y_test, \n",
    "                          include_values=False, \n",
    "                          normalize='pred', \n",
    "                          cmap='inferno',\n",
    "                         )"
   ]
  },
  {
   "cell_type": "markdown",
   "metadata": {},
   "source": [
    "Теперь обучим различные классификаторы и оценим их используя метрики precision и recall. "
   ]
  },
  {
   "cell_type": "code",
   "execution_count": 430,
   "metadata": {},
   "outputs": [
    {
     "name": "stdout",
     "output_type": "stream",
     "text": [
      "rf_clf: {'precision': 0.5646745428072555, 'recall': 0.586289490492802}\n"
     ]
    },
    {
     "data": {
      "image/png": "[encoded data removed]",
      "text/plain": [
       "<Figure size 432x288 with 2 Axes>"
      ]
     },
     "metadata": {
      "needs_background": "light"
     },
     "output_type": "display_data"
    }
   ],
   "source": [
    "#Random forest \n",
    "rf_clf = ensemble.RandomForestClassifier(n_estimators=300, random_state=42)\n",
    "\n",
    "print(f\"rf_clf: {calc_precision_recall(rf_clf, X_train, Y_train)}\")\n",
    "confusion_matrix(rf_clf, X_train, Y_train, X_test, Y_test)"
   ]
  },
  {
   "cell_type": "code",
   "execution_count": 431,
   "metadata": {},
   "outputs": [
    {
     "name": "stdout",
     "output_type": "stream",
     "text": [
      "svm_clf: {'precision': 0.563638711934663, 'recall': 0.5781088782980396}\n"
     ]
    },
    {
     "data": {
      "image/png": "[encoded data removed]",
      "text/plain": [
       "<Figure size 432x288 with 2 Axes>"
      ]
     },
     "metadata": {
      "needs_background": "light"
     },
     "output_type": "display_data"
    }
   ],
   "source": [
    "#SVM\n",
    "from sklearn.svm import SVC \n",
    "\n",
    "svm_clf = SVC() \n",
    "print(f\"svm_clf: {calc_precision_recall(svm_clf, X_train, Y_train)}\")\n",
    "confusion_matrix(svm_clf, X_train, Y_train, X_test, Y_test)"
   ]
  },
  {
   "cell_type": "code",
   "execution_count": 432,
   "metadata": {},
   "outputs": [
    {
     "name": "stdout",
     "output_type": "stream",
     "text": [
      "knn_clf: {'precision': 0.5335854506928497, 'recall': 0.5614405738711737}\n"
     ]
    },
    {
     "data": {
      "image/png": "[encoded data removed]",
      "text/plain": [
       "<Figure size 432x288 with 2 Axes>"
      ]
     },
     "metadata": {
      "needs_background": "light"
     },
     "output_type": "display_data"
    }
   ],
   "source": [
    "#KNN \n",
    "from sklearn.neighbors import KNeighborsClassifier \n",
    "\n",
    "knn_clf = KNeighborsClassifier(n_neighbors = 90) \n",
    "print(f\"knn_clf: {calc_precision_recall(knn_clf, X_train, Y_train)}\")\n",
    "confusion_matrix(knn_clf, X_train, Y_train, X_test, Y_test)"
   ]
  },
  {
   "cell_type": "code",
   "execution_count": 433,
   "metadata": {},
   "outputs": [
    {
     "name": "stdout",
     "output_type": "stream",
     "text": [
      "knn_clf: {'precision': 0.5335854506928497, 'recall': 0.5614405738711737}\n"
     ]
    },
    {
     "data": {
      "image/png": "[encoded data removed]",
      "text/plain": [
       "<Figure size 432x288 with 2 Axes>"
      ]
     },
     "metadata": {
      "needs_background": "light"
     },
     "output_type": "display_data"
    }
   ],
   "source": [
    "from sklearn.multiclass import OneVsOneClassifier \n",
    "\n",
    "ovo_clf = OneVsOneClassifier(SGDClassifier(max_iter=5, tol=-np.infty, random_state=42)) \n",
    "\n",
    "print(f\"ovo_clf: {calc_precision_recall(ovo_clf, X_train, Y_train)}\")\n",
    "confusion_matrix(ovo_clf, X_train, Y_train, X_test, Y_test)"
   ]
  },
  {
   "cell_type": "markdown",
   "metadata": {},
   "source": [
    "Также в попытке получить дополнительную информацию о данных была использована библиотека elpigraph, но, к сожалению, результаты пригодные для анализа получены не были."
   ]
  },
  {
   "cell_type": "code",
   "execution_count": 74,
   "metadata": {},
   "outputs": [
    {
     "name": "stdout",
     "output_type": "stream",
     "text": [
      "Generating the initial configuration\n",
      "Creating a chain in the 1st PC with 2 nodes\n",
      "90% of the points have been used as initial conditions. Resetting.\n",
      "Constructing tree 1 of 1 / Subset 1 of 1\n",
      "Performing PCA\n",
      "Using standard PCA\n",
      "34 dimensions are being used\n",
      "100.0 % of the original variance has been retained\n",
      "The elastic matrix is being used. Edge configuration will be ignored\n",
      "Computing EPG with  50  nodes on  81412  points and  34  dimensions\n",
      "Nodes =  2 3 4 5 6 7 8 9 10 11 12 13 14 15 16 17 18 19 20 21 22 23 24 25 26 27 28 29 30 31 32 33 34 35 36 37 38 39 40 41 42 43 44 45 46 47 48 49 \n",
      "\n",
      "BARCODE\tENERGY\tNNODES\tNEDGES\tNRIBS\tNSTARS\tNRAYS\tNRAYS2\tMSE\tMSEP\tFVE\tFVEP\tUE\tUR\tURN\tURN2\tURSD\n",
      "\n",
      "1|0|0|0|0|0|0|0|0|0|0|0|0|0|0|0|0|0|5||50\t22.4428\t50\t49\t18\t5\t0\t0\t20.5603\t20.5293\t0.3947\t0.3956\t1.8798\t0.0027\t0.1366\t6.8299\t0\n",
      "\n",
      "\n",
      "1420.6909  seconds elapsed\n"
     ]
    }
   ],
   "source": [
    "import elpigraph\n",
    "\n",
    "#fit principal tree with 50 nodes\n",
    "tree = elpigraph.computeElasticPrincipalTree(X_train, 50)[0]"
   ]
  },
  {
   "cell_type": "code",
   "execution_count": 75,
   "metadata": {
    "scrolled": false
   },
   "outputs": [
    {
     "data": {
      "image/png": "[encoded data removed]",
      "text/plain": [
       "<Figure size 432x288 with 1 Axes>"
      ]
     },
     "metadata": {
      "needs_background": "light"
     },
     "output_type": "display_data"
    }
   ],
   "source": [
    "elpigraph.plot.PlotPG(X_train, tree)"
   ]
  },
  {
   "cell_type": "code",
   "execution_count": 76,
   "metadata": {},
   "outputs": [
    {
     "name": "stdout",
     "output_type": "stream",
     "text": [
      "Generating the initial configuration\n",
      "Creating a chain in the 1st PC with 2 nodes\n",
      "90% of the points have been used as initial conditions. Resetting.\n",
      "Constructing tree 1 of 1 / Subset 1 of 1\n",
      "Performing PCA\n",
      "Using standard PCA\n",
      "34 dimensions are being used\n",
      "100.0 % of the original variance has been retained\n",
      "The elastic matrix is being used. Edge configuration will be ignored\n",
      "Computing EPG with  5  nodes on  81412  points and  34  dimensions\n",
      "Nodes =  2 3 4 \n",
      "\n",
      "BARCODE\tENERGY\tNNODES\tNEDGES\tNRIBS\tNSTARS\tNRAYS\tNRAYS2\tMSE\tMSEP\tFVE\tFVEP\tUE\tUR\tURN\tURN2\tURSD\n",
      "\n",
      "1|0||5\t30.4492\t5\t4\t0\t0\t0\t0\t30.132\t29.9095\t0.1129\t0.1195\t0.224\t0.0932\t0.4662\t2.3309\t0\n",
      "\n",
      "\n",
      "9.2492  seconds elapsed\n"
     ]
    }
   ],
   "source": [
    "tree = elpigraph.computeElasticPrincipalTree(X_train, 5)[0]"
   ]
  },
  {
   "cell_type": "code",
   "execution_count": 77,
   "metadata": {
    "scrolled": true
   },
   "outputs": [
    {
     "data": {
      "image/png": "[encoded data removed]",
      "text/plain": [
       "<Figure size 432x288 with 1 Axes>"
      ]
     },
     "metadata": {
      "needs_background": "light"
     },
     "output_type": "display_data"
    }
   ],
   "source": [
    "elpigraph.plot.PlotPG(X_train, tree)"
   ]
  },
  {
   "cell_type": "code",
   "execution_count": 78,
   "metadata": {
    "scrolled": true
   },
   "outputs": [
    {
     "name": "stdout",
     "output_type": "stream",
     "text": [
      "Generating the initial configuration\n",
      "Creating a chain in the 1st PC with 2 nodes\n",
      "90% of the points have been used as initial conditions. Resetting.\n",
      "Constructing tree 1 of 1 / Subset 1 of 1\n",
      "Performing PCA\n",
      "Using standard PCA\n",
      "34 dimensions are being used\n",
      "100.0 % of the original variance has been retained\n",
      "The elastic matrix is being used. Edge configuration will be ignored\n",
      "Computing EPG with  10  nodes on  81412  points and  34  dimensions\n",
      "Nodes =  2 3 4 5 6 7 8 9 \n",
      "\n",
      "BARCODE\tENERGY\tNNODES\tNEDGES\tNRIBS\tNSTARS\tNRAYS\tNRAYS2\tMSE\tMSEP\tFVE\tFVEP\tUE\tUR\tURN\tURN2\tURSD\n",
      "\n",
      "1|0|0|0|0|0|0||10\t27.8594\t10\t9\t0\t0\t0\t0\t27.0303\t26.9507\t0.2042\t0.2066\t0.7884\t0.0407\t0.407\t4.0696\t0\n",
      "\n",
      "\n",
      "41.7001  seconds elapsed\n"
     ]
    }
   ],
   "source": [
    "tree = elpigraph.computeElasticPrincipalTree(X_train, 10)[0]"
   ]
  },
  {
   "cell_type": "code",
   "execution_count": 79,
   "metadata": {
    "scrolled": true
   },
   "outputs": [
    {
     "data": {
      "image/png": "[encoded data removed]",
      "text/plain": [
       "<Figure size 432x288 with 1 Axes>"
      ]
     },
     "metadata": {
      "needs_background": "light"
     },
     "output_type": "display_data"
    }
   ],
   "source": [
    "elpigraph.plot.PlotPG(X_train, tree)"
   ]
  },
  {
   "cell_type": "code",
   "execution_count": 80,
   "metadata": {
    "scrolled": true
   },
   "outputs": [
    {
     "name": "stdout",
     "output_type": "stream",
     "text": [
      "Generating the initial configuration\n",
      "Creating a chain in the 1st PC with 2 nodes\n",
      "90% of the points have been used as initial conditions. Resetting.\n",
      "Constructing tree 1 of 1 / Subset 1 of 1\n",
      "Performing PCA\n",
      "Using standard PCA\n",
      "34 dimensions are being used\n",
      "100.0 % of the original variance has been retained\n",
      "The elastic matrix is being used. Edge configuration will be ignored\n",
      "Computing EPG with  20  nodes on  81412  points and  34  dimensions\n",
      "Nodes =  2 3 4 5 6 7 8 9 10 11 12 13 14 15 16 17 18 19 \n",
      "\n",
      "BARCODE\tENERGY\tNNODES\tNEDGES\tNRIBS\tNSTARS\tNRAYS\tNRAYS2\tMSE\tMSEP\tFVE\tFVEP\tUE\tUR\tURN\tURN2\tURSD\n",
      "\n",
      "1|0|0|0|0|0|0|0|0|0|0|0|0|0|0||20\t24.9568\t20\t19\t2\t0\t0\t0\t23.2704\t23.2335\t0.3149\t0.316\t1.6864\t0.0\t0.0001\t0.002\t0\n",
      "\n",
      "\n",
      "168.3201  seconds elapsed\n"
     ]
    }
   ],
   "source": [
    "tree = elpigraph.computeElasticPrincipalTree(X_train, 20)[0]"
   ]
  },
  {
   "cell_type": "code",
   "execution_count": 81,
   "metadata": {
    "scrolled": true
   },
   "outputs": [
    {
     "data": {
      "image/png": "[encoded data removed]",
      "text/plain": [
       "<Figure size 432x288 with 1 Axes>"
      ]
     },
     "metadata": {
      "needs_background": "light"
     },
     "output_type": "display_data"
    }
   ],
   "source": [
    "elpigraph.plot.PlotPG(X_train, tree)"
   ]
  },
  {
   "cell_type": "code",
   "execution_count": 82,
   "metadata": {},
   "outputs": [
    {
     "name": "stdout",
     "output_type": "stream",
     "text": [
      "The initial number of nodes must be at least 3. This will be fixed\n",
      "Generating the initial configuration\n",
      "Creating a circle in the plane induced by the 1st and 2nd PCs with 3 nodes\n",
      "90% of the points have been used as initial conditions. Resetting.\n",
      "Constructing tree 1 of 1 / Subset 1 of 1\n",
      "Performing PCA\n",
      "Using standard PCA\n",
      "34 dimensions are being used\n",
      "100.0 % of the original variance has been retained\n",
      "The elastic matrix is being used. Edge configuration will be ignored\n",
      "Computing EPG with  50  nodes on  81412  points and  34  dimensions\n",
      "Nodes =  3 4 5 6 7 8 9 10 11 12 13 14 15 16 17 18 19 20 21 22 23 24 25 26 27 28 29 30 31 32 33 34 35 36 37 38 39 40 41 42 43 44 45 46 47 48 49 \n",
      "\n",
      "BARCODE\tENERGY\tNNODES\tNEDGES\tNRIBS\tNSTARS\tNRAYS\tNRAYS2\tMSE\tMSEP\tFVE\tFVEP\tUE\tUR\tURN\tURN2\tURSD\n",
      "\n",
      "0||50\t25.6544\t50\t50\t50\t0\t0\t0\t24.0709\t24.0318\t0.2914\t0.2925\t0.7933\t0.7902\t39.5117\t1975.5835\t0\n",
      "\n",
      "\n",
      "317.2094  seconds elapsed\n"
     ]
    }
   ],
   "source": [
    "tree = elpigraph.computeElasticPrincipalCircle(X_train,50)[0]"
   ]
  },
  {
   "cell_type": "code",
   "execution_count": 83,
   "metadata": {
    "scrolled": true
   },
   "outputs": [
    {
     "data": {
      "image/png": "[encoded data removed]",
      "text/plain": [
       "<Figure size 432x288 with 1 Axes>"
      ]
     },
     "metadata": {
      "needs_background": "light"
     },
     "output_type": "display_data"
    }
   ],
   "source": [
    "elpigraph.plot.PlotPG(X_train, tree)"
   ]
  },
  {
   "cell_type": "code",
   "execution_count": 84,
   "metadata": {
    "scrolled": true
   },
   "outputs": [
    {
     "name": "stdout",
     "output_type": "stream",
     "text": [
      "The initial number of nodes must be at least 3. This will be fixed\n",
      "Generating the initial configuration\n",
      "Creating a circle in the plane induced by the 1st and 2nd PCs with 3 nodes\n",
      "90% of the points have been used as initial conditions. Resetting.\n",
      "Constructing tree 1 of 1 / Subset 1 of 1\n",
      "Performing PCA\n",
      "Using standard PCA\n",
      "34 dimensions are being used\n",
      "100.0 % of the original variance has been retained\n",
      "The elastic matrix is being used. Edge configuration will be ignored\n",
      "Computing EPG with  10  nodes on  81412  points and  34  dimensions\n",
      "Nodes =  3 4 5 6 7 8 9 \n",
      "\n",
      "BARCODE\tENERGY\tNNODES\tNEDGES\tNRIBS\tNSTARS\tNRAYS\tNRAYS2\tMSE\tMSEP\tFVE\tFVEP\tUE\tUR\tURN\tURN2\tURSD\n",
      "\n",
      "0||10\t30.321\t10\t10\t10\t0\t0\t0\t29.7306\t29.6808\t0.1247\t0.1262\t0.1753\t0.4151\t4.1509\t41.5085\t0\n",
      "\n",
      "\n",
      "7.7261  seconds elapsed\n"
     ]
    }
   ],
   "source": [
    "circle = elpigraph.computeElasticPrincipalCircle(X_train,10)[0]"
   ]
  },
  {
   "cell_type": "code",
   "execution_count": 85,
   "metadata": {
    "scrolled": true
   },
   "outputs": [
    {
     "data": {
      "image/png": "[encoded data removed]",
      "text/plain": [
       "<Figure size 432x288 with 1 Axes>"
      ]
     },
     "metadata": {
      "needs_background": "light"
     },
     "output_type": "display_data"
    }
   ],
   "source": [
    "elpigraph.plot.PlotPG(X_train, circle)"
   ]
  },
  {
   "cell_type": "code",
   "execution_count": 89,
   "metadata": {
    "scrolled": true
   },
   "outputs": [
    {
     "name": "stdout",
     "output_type": "stream",
     "text": [
      "The initial number of nodes must be at least 3. This will be fixed\n",
      "Generating the initial configuration\n",
      "Creating a circle in the plane induced by the 1st and 2nd PCs with 3 nodes\n",
      "90% of the points have been used as initial conditions. Resetting.\n",
      "Constructing tree 1 of 1 / Subset 1 of 1\n",
      "Performing PCA\n",
      "Using standard PCA\n",
      "34 dimensions are being used\n",
      "100.0 % of the original variance has been retained\n",
      "The elastic matrix is being used. Edge configuration will be ignored\n",
      "Computing EPG with  20  nodes on  81412  points and  34  dimensions\n",
      "Nodes =  3 4 5 6 7 8 9 10 11 12 13 14 15 16 17 18 19 \n",
      "\n",
      "BARCODE\tENERGY\tNNODES\tNEDGES\tNRIBS\tNSTARS\tNRAYS\tNRAYS2\tMSE\tMSEP\tFVE\tFVEP\tUE\tUR\tURN\tURN2\tURSD\n",
      "\n",
      "0||20\t28.4634\t20\t20\t20\t0\t0\t0\t27.2965\t27.2681\t0.1964\t0.1972\t0.3753\t0.7916\t15.8315\t316.6291\t0\n",
      "\n",
      "\n",
      "38.6402  seconds elapsed\n"
     ]
    }
   ],
   "source": [
    "circle = elpigraph.computeElasticPrincipalCircle(X_train,20)[0]"
   ]
  },
  {
   "cell_type": "code",
   "execution_count": 90,
   "metadata": {
    "scrolled": true
   },
   "outputs": [
    {
     "data": {
      "image/png": "[encoded data removed]",
      "text/plain": [
       "<Figure size 432x288 with 1 Axes>"
      ]
     },
     "metadata": {
      "needs_background": "light"
     },
     "output_type": "display_data"
    }
   ],
   "source": [
    "elpigraph.plot.PlotPG(X_train, circle)"
   ]
  },
  {
   "cell_type": "code",
   "execution_count": 91,
   "metadata": {
    "scrolled": true
   },
   "outputs": [
    {
     "name": "stdout",
     "output_type": "stream",
     "text": [
      "Generating the initial configuration\n",
      "Creating a chain in the 1st PC with 2 nodes\n",
      "90% of the points have been used as initial conditions. Resetting.\n",
      "Constructing tree 1 of 1 / Subset 1 of 1\n",
      "Performing PCA\n",
      "Using standard PCA\n",
      "34 dimensions are being used\n",
      "100.0 % of the original variance has been retained\n",
      "The elastic matrix is being used. Edge configuration will be ignored\n",
      "Computing EPG with  20  nodes on  81412  points and  34  dimensions\n",
      "Nodes =  2 3 4 5 6 7 8 9 10 11 12 13 14 15 16 17 18 19 \n",
      "\n",
      "BARCODE\tENERGY\tNNODES\tNEDGES\tNRIBS\tNSTARS\tNRAYS\tNRAYS2\tMSE\tMSEP\tFVE\tFVEP\tUE\tUR\tURN\tURN2\tURSD\n",
      "\n",
      "0||20\t28.1487\t20\t19\t18\t0\t0\t0\t27.0706\t27.0293\t0.203\t0.2043\t0.3837\t0.6943\t13.8865\t277.7302\t0\n",
      "\n",
      "\n",
      "32.1132  seconds elapsed\n"
     ]
    }
   ],
   "source": [
    "curve = elpigraph.computeElasticPrincipalCurve(X_train,20)[0]"
   ]
  },
  {
   "cell_type": "code",
   "execution_count": 92,
   "metadata": {
    "scrolled": true
   },
   "outputs": [
    {
     "data": {
      "image/png": "[encoded data removed]",
      "text/plain": [
       "<Figure size 432x288 with 1 Axes>"
      ]
     },
     "metadata": {
      "needs_background": "light"
     },
     "output_type": "display_data"
    }
   ],
   "source": [
    "elpigraph.plot.PlotPG(X_train, curve)"
   ]
  },
  {
   "cell_type": "code",
   "execution_count": 93,
   "metadata": {
    "scrolled": true
   },
   "outputs": [
    {
     "name": "stdout",
     "output_type": "stream",
     "text": [
      "Generating the initial configuration\n",
      "Creating a chain in the 1st PC with 2 nodes\n",
      "90% of the points have been used as initial conditions. Resetting.\n",
      "Constructing tree 1 of 1 / Subset 1 of 1\n",
      "Performing PCA\n",
      "Using standard PCA\n",
      "34 dimensions are being used\n",
      "100.0 % of the original variance has been retained\n",
      "The elastic matrix is being used. Edge configuration will be ignored\n",
      "Computing EPG with  40  nodes on  81412  points and  34  dimensions\n",
      "Nodes =  2 3 4 5 6 7 8 9 10 11 12 13 14 15 16 17 18 19 20 21 22 23 24 25 26 27 28 29 30 31 32 33 34 35 36 37 38 39 \n",
      "\n",
      "BARCODE\tENERGY\tNNODES\tNEDGES\tNRIBS\tNSTARS\tNRAYS\tNRAYS2\tMSE\tMSEP\tFVE\tFVEP\tUE\tUR\tURN\tURN2\tURSD\n",
      "\n",
      "0||40\t26.1909\t40\t39\t38\t0\t0\t0\t24.9005\t24.8534\t0.2669\t0.2683\t0.6036\t0.6868\t27.4734\t1098.9367\t0\n",
      "\n",
      "\n",
      "161.7346  seconds elapsed\n"
     ]
    }
   ],
   "source": [
    "curve = elpigraph.computeElasticPrincipalCurve(X_train,40)[0]"
   ]
  },
  {
   "cell_type": "code",
   "execution_count": 94,
   "metadata": {},
   "outputs": [
    {
     "data": {
      "image/png": "[encoded data removed]",
      "text/plain": [
       "<Figure size 432x288 with 1 Axes>"
      ]
     },
     "metadata": {
      "needs_background": "light"
     },
     "output_type": "display_data"
    }
   ],
   "source": [
    "elpigraph.plot.PlotPG(X_train, curve)"
   ]
  }
 ],
 "metadata": {
  "kernelspec": {
   "display_name": "Python 3",
   "language": "python",
   "name": "python3"
  },
  "language_info": {
   "codemirror_mode": {
    "name": "ipython",
    "version": 3
   },
   "file_extension": ".py",
   "mimetype": "text/x-python",
   "name": "python",
   "nbconvert_exporter": "python",
   "pygments_lexer": "ipython3",
   "version": "3.9.0"
  }
 },
 "nbformat": 4,
 "nbformat_minor": 4
}
